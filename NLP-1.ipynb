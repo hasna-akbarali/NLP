{
 "cells": [
  {
   "cell_type": "code",
   "execution_count": 1,
   "id": "03164c7e",
   "metadata": {},
   "outputs": [],
   "source": [
    "import nltk\n",
    "import re\n",
    "from nltk.tokenize import word_tokenize,sent_tokenize\n",
    "\n",
    "from nltk.corpus import stopwords\n",
    "from nltk.stem import WordNetLemmatizer\n",
    "from nltk.stem import PorterStemmer\n",
    "from nltk.stem import LancasterStemmer"
   ]
  },
  {
   "cell_type": "code",
   "execution_count": 2,
   "id": "333079ea",
   "metadata": {},
   "outputs": [
    {
     "name": "stderr",
     "output_type": "stream",
     "text": [
      "[nltk_data] Error loading stopwords: <urlopen error [WinError 10054]\n",
      "[nltk_data]     An existing connection was forcibly closed by the\n",
      "[nltk_data]     remote host>\n"
     ]
    },
    {
     "data": {
      "text/plain": [
       "False"
      ]
     },
     "execution_count": 2,
     "metadata": {},
     "output_type": "execute_result"
    }
   ],
   "source": [
    "nltk.download('stopwords')"
   ]
  },
  {
   "cell_type": "code",
   "execution_count": 3,
   "id": "a44a5d2f",
   "metadata": {},
   "outputs": [],
   "source": [
    "text_example=\"\"\"Hello!! Everyone , Artificial intelligence is a very broden topic with  \n",
    "Machine Learning and Deep learning NLP\"\"\""
   ]
  },
  {
   "cell_type": "code",
   "execution_count": 4,
   "id": "e771ebe5",
   "metadata": {},
   "outputs": [],
   "source": [
    "text_example = text_example.lower()"
   ]
  },
  {
   "cell_type": "code",
   "execution_count": 5,
   "id": "eac7ca9c",
   "metadata": {},
   "outputs": [
    {
     "data": {
      "text/plain": [
       "['canada', 'canada', 'canada', 'canada']"
      ]
     },
     "execution_count": 5,
     "metadata": {},
     "output_type": "execute_result"
    }
   ],
   "source": [
    "texts=[\"CANADA\",\"Canada\",\"CanaDA\",\"Canada\"]\n",
    "texts =[i.lower() for i in texts]\n",
    "texts"
   ]
  },
  {
   "cell_type": "code",
   "execution_count": 6,
   "id": "8ce10fc7",
   "metadata": {},
   "outputs": [
    {
     "data": {
      "text/plain": [
       "'helloeveryoneartificialintelligenceisaverybrodentopicwithmachinelearninganddeeplearningnlp'"
      ]
     },
     "execution_count": 6,
     "metadata": {},
     "output_type": "execute_result"
    }
   ],
   "source": [
    "import re\n",
    "\n",
    "text_example_corrected = re.sub('([^A-Za-z])','',text_example)\n",
    "text_example_corrected"
   ]
  },
  {
   "cell_type": "code",
   "execution_count": 7,
   "id": "426bc89f",
   "metadata": {},
   "outputs": [],
   "source": [
    "a_string=\"!hi. wh?at is the weat[h]er cond!ition.\""
   ]
  },
  {
   "cell_type": "code",
   "execution_count": 8,
   "id": "b5256bf6",
   "metadata": {},
   "outputs": [
    {
     "data": {
      "text/plain": [
       "'hi what is the weather condition'"
      ]
     },
     "execution_count": 8,
     "metadata": {},
     "output_type": "execute_result"
    }
   ],
   "source": [
    "a_string_corrected = re.sub('([^A-Za-z\\s])','',a_string)\n",
    "a_string_corrected"
   ]
  },
  {
   "cell_type": "code",
   "execution_count": 9,
   "id": "f0833903",
   "metadata": {},
   "outputs": [
    {
     "data": {
      "text/plain": [
       "['hello',\n",
       " '!',\n",
       " '!',\n",
       " 'everyone',\n",
       " ',',\n",
       " 'artificial',\n",
       " 'intelligence',\n",
       " 'is',\n",
       " 'a',\n",
       " 'very',\n",
       " 'broden',\n",
       " 'topic',\n",
       " 'with',\n",
       " 'machine',\n",
       " 'learning',\n",
       " 'and',\n",
       " 'deep',\n",
       " 'learning',\n",
       " 'nlp']"
      ]
     },
     "execution_count": 9,
     "metadata": {},
     "output_type": "execute_result"
    }
   ],
   "source": [
    "wt = word_tokenize(text_example)\n",
    "wt"
   ]
  },
  {
   "cell_type": "code",
   "execution_count": 10,
   "id": "a6043043",
   "metadata": {},
   "outputs": [],
   "source": [
    "sentence=\"\"\"Google CEO Sundar Pichai Shared Email From His Father That He Received 25 Years Ago.\n",
    "With Google turning 25 this month, Sundar Pichai, CEO of Alphabet, recently reflected on how \n",
    "technology has altered the way we communicate. He also recalled the first email his father \n",
    "sent him from India.\n",
    "When I was a student in the US years ago, my father, who was back in India, received his \n",
    "first email address. I sent him a message since I was so happy to have a quicker \n",
    "(and less expensive) option to contact him, Pichai said in his blog.\" After that, \n",
    "I waited again and again. It took me two full days to receive this response. \n",
    "I just sent you an email, Mr. Pichai. It's all good.\n",
    "The Google CEO called his father to find out what had transpired because he was perplexed \n",
    "by the formality and the delay. According to the senior Pichai, someone at his place of \n",
    "employment must open the email on their work computer, print it out, and then hand it to him.\"\"\""
   ]
  },
  {
   "cell_type": "code",
   "execution_count": 11,
   "id": "6a435533",
   "metadata": {},
   "outputs": [
    {
     "data": {
      "text/plain": [
       "['Google CEO Sundar Pichai Shared Email From His Father That He Received 25 Years Ago.',\n",
       " 'With Google turning 25 this month, Sundar Pichai, CEO of Alphabet, recently reflected on how \\ntechnology has altered the way we communicate.',\n",
       " 'He also recalled the first email his father \\nsent him from India.',\n",
       " 'When I was a student in the US years ago, my father, who was back in India, received his \\nfirst email address.',\n",
       " 'I sent him a message since I was so happy to have a quicker \\n(and less expensive) option to contact him, Pichai said in his blog.\"',\n",
       " 'After that, \\nI waited again and again.',\n",
       " 'It took me two full days to receive this response.',\n",
       " 'I just sent you an email, Mr. Pichai.',\n",
       " \"It's all good.\",\n",
       " 'The Google CEO called his father to find out what had transpired because he was perplexed \\nby the formality and the delay.',\n",
       " 'According to the senior Pichai, someone at his place of \\nemployment must open the email on their work computer, print it out, and then hand it to him.']"
      ]
     },
     "execution_count": 11,
     "metadata": {},
     "output_type": "execute_result"
    }
   ],
   "source": [
    "sentence_tokenize = sent_tokenize(sentence)\n",
    "sentence_tokenize"
   ]
  },
  {
   "cell_type": "code",
   "execution_count": 12,
   "id": "6bab3532",
   "metadata": {},
   "outputs": [],
   "source": [
    "paragraph = []\n",
    "for i in sentence_tokenize:\n",
    "    review_para = re.sub('[^a-zA-Z0-9]',' ',i)\n",
    "    review_para = review_para.lower().strip()\n",
    "    paragraph.append(review_para)"
   ]
  },
  {
   "cell_type": "code",
   "execution_count": 13,
   "id": "b7089077",
   "metadata": {},
   "outputs": [
    {
     "data": {
      "text/plain": [
       "['google ceo sundar pichai shared email from his father that he received 25 years ago',\n",
       " 'with google turning 25 this month  sundar pichai  ceo of alphabet  recently reflected on how  technology has altered the way we communicate',\n",
       " 'he also recalled the first email his father  sent him from india',\n",
       " 'when i was a student in the us years ago  my father  who was back in india  received his  first email address',\n",
       " 'i sent him a message since i was so happy to have a quicker   and less expensive  option to contact him  pichai said in his blog',\n",
       " 'after that   i waited again and again',\n",
       " 'it took me two full days to receive this response',\n",
       " 'i just sent you an email  mr  pichai',\n",
       " 'it s all good',\n",
       " 'the google ceo called his father to find out what had transpired because he was perplexed  by the formality and the delay',\n",
       " 'according to the senior pichai  someone at his place of  employment must open the email on their work computer  print it out  and then hand it to him']"
      ]
     },
     "execution_count": 13,
     "metadata": {},
     "output_type": "execute_result"
    }
   ],
   "source": [
    "paragraph"
   ]
  },
  {
   "cell_type": "code",
   "execution_count": 14,
   "id": "89f1deac",
   "metadata": {},
   "outputs": [
    {
     "data": {
      "text/plain": [
       "['Google',\n",
       " 'CEO',\n",
       " 'Sundar',\n",
       " 'Pichai',\n",
       " 'Shared',\n",
       " 'Email',\n",
       " 'From',\n",
       " 'His',\n",
       " 'Father',\n",
       " 'That',\n",
       " 'He',\n",
       " 'Received',\n",
       " '25',\n",
       " 'Years',\n",
       " 'Ago',\n",
       " '.',\n",
       " 'With',\n",
       " 'Google',\n",
       " 'turning',\n",
       " '25',\n",
       " 'this',\n",
       " 'month',\n",
       " ',',\n",
       " 'Sundar',\n",
       " 'Pichai',\n",
       " ',',\n",
       " 'CEO',\n",
       " 'of',\n",
       " 'Alphabet',\n",
       " ',',\n",
       " 'recently',\n",
       " 'reflected',\n",
       " 'on',\n",
       " 'how',\n",
       " 'technology',\n",
       " 'has',\n",
       " 'altered',\n",
       " 'the',\n",
       " 'way',\n",
       " 'we',\n",
       " 'communicate',\n",
       " '.',\n",
       " 'He',\n",
       " 'also',\n",
       " 'recalled',\n",
       " 'the',\n",
       " 'first',\n",
       " 'email',\n",
       " 'his',\n",
       " 'father',\n",
       " 'sent',\n",
       " 'him',\n",
       " 'from',\n",
       " 'India',\n",
       " '.',\n",
       " 'When',\n",
       " 'I',\n",
       " 'was',\n",
       " 'a',\n",
       " 'student',\n",
       " 'in',\n",
       " 'the',\n",
       " 'US',\n",
       " 'years',\n",
       " 'ago',\n",
       " ',',\n",
       " 'my',\n",
       " 'father',\n",
       " ',',\n",
       " 'who',\n",
       " 'was',\n",
       " 'back',\n",
       " 'in',\n",
       " 'India',\n",
       " ',',\n",
       " 'received',\n",
       " 'his',\n",
       " 'first',\n",
       " 'email',\n",
       " 'address',\n",
       " '.',\n",
       " 'I',\n",
       " 'sent',\n",
       " 'him',\n",
       " 'a',\n",
       " 'message',\n",
       " 'since',\n",
       " 'I',\n",
       " 'was',\n",
       " 'so',\n",
       " 'happy',\n",
       " 'to',\n",
       " 'have',\n",
       " 'a',\n",
       " 'quicker',\n",
       " '(',\n",
       " 'and',\n",
       " 'less',\n",
       " 'expensive',\n",
       " ')',\n",
       " 'option',\n",
       " 'to',\n",
       " 'contact',\n",
       " 'him',\n",
       " ',',\n",
       " 'Pichai',\n",
       " 'said',\n",
       " 'in',\n",
       " 'his',\n",
       " 'blog',\n",
       " '.',\n",
       " \"''\",\n",
       " 'After',\n",
       " 'that',\n",
       " ',',\n",
       " 'I',\n",
       " 'waited',\n",
       " 'again',\n",
       " 'and',\n",
       " 'again',\n",
       " '.',\n",
       " 'It',\n",
       " 'took',\n",
       " 'me',\n",
       " 'two',\n",
       " 'full',\n",
       " 'days',\n",
       " 'to',\n",
       " 'receive',\n",
       " 'this',\n",
       " 'response',\n",
       " '.',\n",
       " 'I',\n",
       " 'just',\n",
       " 'sent',\n",
       " 'you',\n",
       " 'an',\n",
       " 'email',\n",
       " ',',\n",
       " 'Mr.',\n",
       " 'Pichai',\n",
       " '.',\n",
       " 'It',\n",
       " \"'s\",\n",
       " 'all',\n",
       " 'good',\n",
       " '.',\n",
       " 'The',\n",
       " 'Google',\n",
       " 'CEO',\n",
       " 'called',\n",
       " 'his',\n",
       " 'father',\n",
       " 'to',\n",
       " 'find',\n",
       " 'out',\n",
       " 'what',\n",
       " 'had',\n",
       " 'transpired',\n",
       " 'because',\n",
       " 'he',\n",
       " 'was',\n",
       " 'perplexed',\n",
       " 'by',\n",
       " 'the',\n",
       " 'formality',\n",
       " 'and',\n",
       " 'the',\n",
       " 'delay',\n",
       " '.',\n",
       " 'According',\n",
       " 'to',\n",
       " 'the',\n",
       " 'senior',\n",
       " 'Pichai',\n",
       " ',',\n",
       " 'someone',\n",
       " 'at',\n",
       " 'his',\n",
       " 'place',\n",
       " 'of',\n",
       " 'employment',\n",
       " 'must',\n",
       " 'open',\n",
       " 'the',\n",
       " 'email',\n",
       " 'on',\n",
       " 'their',\n",
       " 'work',\n",
       " 'computer',\n",
       " ',',\n",
       " 'print',\n",
       " 'it',\n",
       " 'out',\n",
       " ',',\n",
       " 'and',\n",
       " 'then',\n",
       " 'hand',\n",
       " 'it',\n",
       " 'to',\n",
       " 'him',\n",
       " '.']"
      ]
     },
     "execution_count": 14,
     "metadata": {},
     "output_type": "execute_result"
    }
   ],
   "source": [
    "word_tokenize(sentence)"
   ]
  },
  {
   "cell_type": "code",
   "execution_count": 15,
   "id": "77790dc6",
   "metadata": {},
   "outputs": [
    {
     "data": {
      "text/plain": [
       "754"
      ]
     },
     "execution_count": 15,
     "metadata": {},
     "output_type": "execute_result"
    }
   ],
   "source": [
    "len(stopwords.words('arabic'))"
   ]
  },
  {
   "cell_type": "code",
   "execution_count": 16,
   "id": "f8410358",
   "metadata": {},
   "outputs": [],
   "source": [
    "stopwords_en = stopwords.words('english')"
   ]
  },
  {
   "cell_type": "code",
   "execution_count": 17,
   "id": "edc67e7d",
   "metadata": {},
   "outputs": [
    {
     "data": {
      "text/plain": [
       "['googl',\n",
       " 'ceo',\n",
       " 'sundar',\n",
       " 'pichai',\n",
       " 'share',\n",
       " 'email',\n",
       " 'father',\n",
       " 'receiv',\n",
       " '25',\n",
       " 'year',\n",
       " 'ago',\n",
       " 'googl',\n",
       " 'turn',\n",
       " '25',\n",
       " 'month',\n",
       " 'sundar',\n",
       " 'pichai',\n",
       " 'ceo',\n",
       " 'alphabet',\n",
       " 'recent',\n",
       " 'reflect',\n",
       " 'technolog',\n",
       " 'alter',\n",
       " 'way',\n",
       " 'commun',\n",
       " 'also',\n",
       " 'recal',\n",
       " 'first',\n",
       " 'email',\n",
       " 'father',\n",
       " 'sent',\n",
       " 'india',\n",
       " 'student',\n",
       " 'us',\n",
       " 'year',\n",
       " 'ago',\n",
       " 'father',\n",
       " 'back',\n",
       " 'india',\n",
       " 'receiv',\n",
       " 'first',\n",
       " 'email',\n",
       " 'address',\n",
       " 'sent',\n",
       " 'messag',\n",
       " 'sinc',\n",
       " 'happi',\n",
       " 'quicker',\n",
       " 'less',\n",
       " 'expens',\n",
       " 'option',\n",
       " 'contact',\n",
       " 'pichai',\n",
       " 'said',\n",
       " 'blog',\n",
       " 'wait',\n",
       " 'took',\n",
       " 'two',\n",
       " 'full',\n",
       " 'day',\n",
       " 'receiv',\n",
       " 'respons',\n",
       " 'sent',\n",
       " 'email',\n",
       " 'mr',\n",
       " 'pichai',\n",
       " 'good',\n",
       " 'googl',\n",
       " 'ceo',\n",
       " 'call',\n",
       " 'father',\n",
       " 'find',\n",
       " 'transpir',\n",
       " 'perplex',\n",
       " 'formal',\n",
       " 'delay',\n",
       " 'accord',\n",
       " 'senior',\n",
       " 'pichai',\n",
       " 'someon',\n",
       " 'place',\n",
       " 'employ',\n",
       " 'must',\n",
       " 'open',\n",
       " 'email',\n",
       " 'work',\n",
       " 'comput',\n",
       " 'print',\n",
       " 'hand']"
      ]
     },
     "execution_count": 17,
     "metadata": {},
     "output_type": "execute_result"
    }
   ],
   "source": [
    "clean_text = []\n",
    "porter_stemmer = PorterStemmer()\n",
    "\n",
    "for i in paragraph:\n",
    "    words = nltk.word_tokenize(i)\n",
    "    for j in words:\n",
    "        if j not in stopwords_en:\n",
    "            root_word=porter_stemmer.stem(j)\n",
    "            clean_text.append(root_word)\n",
    "clean_text"
   ]
  },
  {
   "cell_type": "code",
   "execution_count": 18,
   "id": "f6996694",
   "metadata": {},
   "outputs": [
    {
     "data": {
      "text/plain": [
       "['googl',\n",
       " 'ceo',\n",
       " 'sund',\n",
       " 'picha',\n",
       " 'shar',\n",
       " 'email',\n",
       " 'fath',\n",
       " 'receiv',\n",
       " '25',\n",
       " 'year',\n",
       " 'ago',\n",
       " 'googl',\n",
       " 'turn',\n",
       " '25',\n",
       " 'mon',\n",
       " 'sund',\n",
       " 'picha',\n",
       " 'ceo',\n",
       " 'alphabet',\n",
       " 'rec',\n",
       " 'reflect',\n",
       " 'technolog',\n",
       " 'alt',\n",
       " 'way',\n",
       " 'commun',\n",
       " 'also',\n",
       " 'recal',\n",
       " 'first',\n",
       " 'email',\n",
       " 'fath',\n",
       " 'sent',\n",
       " 'ind',\n",
       " 'stud',\n",
       " 'us',\n",
       " 'year',\n",
       " 'ago',\n",
       " 'fath',\n",
       " 'back',\n",
       " 'ind',\n",
       " 'receiv',\n",
       " 'first',\n",
       " 'email',\n",
       " 'address',\n",
       " 'sent',\n",
       " 'mess',\n",
       " 'sint',\n",
       " 'happy',\n",
       " 'quick',\n",
       " 'less',\n",
       " 'expend',\n",
       " 'opt',\n",
       " 'contact',\n",
       " 'picha',\n",
       " 'said',\n",
       " 'blog',\n",
       " 'wait',\n",
       " 'took',\n",
       " 'two',\n",
       " 'ful',\n",
       " 'day',\n",
       " 'receiv',\n",
       " 'respons',\n",
       " 'sent',\n",
       " 'email',\n",
       " 'mr',\n",
       " 'picha',\n",
       " 'good',\n",
       " 'googl',\n",
       " 'ceo',\n",
       " 'cal',\n",
       " 'fath',\n",
       " 'find',\n",
       " 'transpir',\n",
       " 'perplex',\n",
       " 'form',\n",
       " 'delay',\n",
       " 'accord',\n",
       " 'seny',\n",
       " 'picha',\n",
       " 'someon',\n",
       " 'plac',\n",
       " 'employ',\n",
       " 'must',\n",
       " 'op',\n",
       " 'email',\n",
       " 'work',\n",
       " 'comput',\n",
       " 'print',\n",
       " 'hand']"
      ]
     },
     "execution_count": 18,
     "metadata": {},
     "output_type": "execute_result"
    }
   ],
   "source": [
    "clean_text = []\n",
    "lancaster_stemmer = LancasterStemmer()\n",
    "\n",
    "for i in paragraph:\n",
    "    words = nltk.word_tokenize(i)\n",
    "    for j in words:\n",
    "        if j not in stopwords_en:\n",
    "            root_word=lancaster_stemmer.stem(j)\n",
    "            clean_text.append(root_word)\n",
    "clean_text"
   ]
  },
  {
   "cell_type": "code",
   "execution_count": 19,
   "id": "6851bab1",
   "metadata": {},
   "outputs": [
    {
     "name": "stdout",
     "output_type": "stream",
     "text": [
      "Requirement already satisfied: pyspellchecker in c:\\users\\dell\\anaconda3\\lib\\site-packages (0.7.2)\n",
      "Note: you may need to restart the kernel to use updated packages.\n"
     ]
    }
   ],
   "source": [
    "pip install pyspellchecker"
   ]
  },
  {
   "cell_type": "code",
   "execution_count": 131,
   "id": "081fdf8d",
   "metadata": {},
   "outputs": [
    {
     "name": "stderr",
     "output_type": "stream",
     "text": [
      "[nltk_data] Error loading punkt: <urlopen error [WinError 10054] An\n",
      "[nltk_data]     existing connection was forcibly closed by the remote\n",
      "[nltk_data]     host>\n"
     ]
    },
    {
     "data": {
      "text/plain": [
       "False"
      ]
     },
     "execution_count": 131,
     "metadata": {},
     "output_type": "execute_result"
    }
   ],
   "source": [
    "nltk.download('punkt')"
   ]
  },
  {
   "cell_type": "code",
   "execution_count": 43,
   "id": "903f92df",
   "metadata": {},
   "outputs": [
    {
     "name": "stdout",
     "output_type": "stream",
     "text": [
      "Requirement already satisfied: pyspellchecker in c:\\users\\dell\\anaconda3\\lib\\site-packages (0.7.2)\n"
     ]
    }
   ],
   "source": [
    "!pip install pyspellchecker"
   ]
  },
  {
   "cell_type": "code",
   "execution_count": 130,
   "id": "e2716c6e",
   "metadata": {},
   "outputs": [
    {
     "ename": "ModuleNotFoundError",
     "evalue": "No module named 'indexer'",
     "output_type": "error",
     "traceback": [
      "\u001b[1;31m---------------------------------------------------------------------------\u001b[0m",
      "\u001b[1;31mModuleNotFoundError\u001b[0m                       Traceback (most recent call last)",
      "Cell \u001b[1;32mIn[130], line 1\u001b[0m\n\u001b[1;32m----> 1\u001b[0m \u001b[38;5;28;01mfrom\u001b[39;00m \u001b[38;5;21;01mspellchecker\u001b[39;00m \u001b[38;5;28;01mimport\u001b[39;00m SpellChecker\n",
      "File \u001b[1;32m~\\anaconda3\\lib\\site-packages\\spellchecker\\__init__.py:2\u001b[0m\n\u001b[0;32m      1\u001b[0m \u001b[38;5;66;03m# -*- coding: utf-8 -*-\u001b[39;00m\n\u001b[1;32m----> 2\u001b[0m \u001b[38;5;28;01mfrom\u001b[39;00m  \u001b[38;5;21;01mspellchecker\u001b[39;00m\u001b[38;5;21;01m.\u001b[39;00m\u001b[38;5;21;01mcore\u001b[39;00m \u001b[38;5;28;01mimport\u001b[39;00m Spellchecker,getInstance\n",
      "File \u001b[1;32m~\\anaconda3\\lib\\site-packages\\spellchecker\\core.py:26\u001b[0m\n\u001b[0;32m     23\u001b[0m \u001b[38;5;28;01mimport\u001b[39;00m \u001b[38;5;21;01minexactsearch\u001b[39;00m\n\u001b[0;32m     24\u001b[0m \u001b[38;5;28;01mimport\u001b[39;00m \u001b[38;5;21;01murllib\u001b[39;00m\n\u001b[1;32m---> 26\u001b[0m \u001b[38;5;28;01mfrom\u001b[39;00m \u001b[38;5;21;01mindexer\u001b[39;00m \u001b[38;5;28;01mimport\u001b[39;00m DictionaryIndex\n\u001b[0;32m     27\u001b[0m \u001b[38;5;28;01mfrom\u001b[39;00m \u001b[38;5;21;01mlangdetect\u001b[39;00m \u001b[38;5;28;01mimport\u001b[39;00m _detect_lang\n\u001b[0;32m     29\u001b[0m __all__ \u001b[38;5;241m=\u001b[39m [\u001b[38;5;124m'\u001b[39m\u001b[38;5;124mSpellchecker\u001b[39m\u001b[38;5;124m'\u001b[39m, \u001b[38;5;124m'\u001b[39m\u001b[38;5;124mgetInstance\u001b[39m\u001b[38;5;124m'\u001b[39m]\n",
      "\u001b[1;31mModuleNotFoundError\u001b[0m: No module named 'indexer'"
     ]
    }
   ],
   "source": [
    "from spellchecker import SpellChecker"
   ]
  },
  {
   "cell_type": "code",
   "execution_count": 22,
   "id": "ea86bcc0",
   "metadata": {},
   "outputs": [],
   "source": [
    "STOPWORDS=set(stopwords.words(\"english\"))\n",
    "\n",
    "# clean the text data using regex and data cleaning function\n",
    "def datacleaning(text):\n",
    "    whitespace = re.compile(r\"\\s+\")\n",
    "    user = re.compile(r\"(?i)@[a-z0-9_]+\")\n",
    "    text = whitespace.sub(' ', text)\n",
    "    text = user.sub('', text)\n",
    "    text = re.sub(r\"\\[[^()]*\\]\",\"\", text)\n",
    "    text = re.sub(\"\\d+\", \"\", text)\n",
    "    text = re.sub(r'[^\\w\\s]','',text)\n",
    "    text = re.sub(r\"(?:@\\S*|#\\S*|http(?=.*://)\\S*)\", \"\", text)\n",
    "    text = text.lower()\n",
    "    \n",
    "    # removing stop-words\n",
    "    text = [word for word in text.split() if word not in list(STOPWORDS)]\n",
    "    \n",
    "    # word lemmatization\n",
    "    sentence = []\n",
    "    for word in text:\n",
    "        lemmatizer = WordNetLemmatizer()\n",
    "        sentence.append(lemmatizer.lemmatize(word,'v'))\n",
    "        \n",
    "    return ' '.join(sentence)   "
   ]
  },
  {
   "cell_type": "code",
   "execution_count": 23,
   "id": "e8918aa5",
   "metadata": {},
   "outputs": [],
   "source": [
    "clean = datacleaning(sentence)"
   ]
  },
  {
   "cell_type": "code",
   "execution_count": 24,
   "id": "e803b403",
   "metadata": {},
   "outputs": [
    {
     "data": {
      "text/plain": [
       "'google ceo sundar pichai share email father receive years ago google turn month sundar pichai ceo alphabet recently reflect technology alter way communicate also recall first email father send india student us years ago father back india receive first email address send message since happy quicker less expensive option contact pichai say blog wait take two full days receive response send email mr pichai good google ceo call father find transpire perplex formality delay accord senior pichai someone place employment must open email work computer print hand'"
      ]
     },
     "execution_count": 24,
     "metadata": {},
     "output_type": "execute_result"
    }
   ],
   "source": [
    "clean"
   ]
  },
  {
   "cell_type": "code",
   "execution_count": 25,
   "id": "2e42056d",
   "metadata": {},
   "outputs": [
    {
     "name": "stdout",
     "output_type": "stream",
     "text": [
      "Requirement already satisfied: textblob in c:\\users\\dell\\anaconda3\\lib\\site-packages (0.17.1)\n",
      "Requirement already satisfied: nltk>=3.1 in c:\\users\\dell\\anaconda3\\lib\\site-packages (from textblob) (3.7)\n",
      "Requirement already satisfied: joblib in c:\\users\\dell\\anaconda3\\lib\\site-packages (from nltk>=3.1->textblob) (1.1.1)\n",
      "Requirement already satisfied: regex>=2021.8.3 in c:\\users\\dell\\anaconda3\\lib\\site-packages (from nltk>=3.1->textblob) (2022.7.9)\n",
      "Requirement already satisfied: click in c:\\users\\dell\\anaconda3\\lib\\site-packages (from nltk>=3.1->textblob) (8.0.4)\n",
      "Requirement already satisfied: tqdm in c:\\users\\dell\\anaconda3\\lib\\site-packages (from nltk>=3.1->textblob) (4.64.1)\n",
      "Requirement already satisfied: colorama in c:\\users\\dell\\anaconda3\\lib\\site-packages (from click->nltk>=3.1->textblob) (0.4.6)\n",
      "Note: you may need to restart the kernel to use updated packages.\n"
     ]
    }
   ],
   "source": [
    "pip install textblob"
   ]
  },
  {
   "cell_type": "code",
   "execution_count": null,
   "id": "54ef3555",
   "metadata": {},
   "outputs": [],
   "source": [
    "\n",
    "\n"
   ]
  },
  {
   "cell_type": "code",
   "execution_count": null,
   "id": "6012d961",
   "metadata": {},
   "outputs": [],
   "source": []
  },
  {
   "cell_type": "code",
   "execution_count": 129,
   "id": "d04fdcd8",
   "metadata": {},
   "outputs": [
    {
     "name": "stderr",
     "output_type": "stream",
     "text": [
      "[nltk_data] Error loading averaged_perceptron_tagger: <urlopen error\n",
      "[nltk_data]     [WinError 10054] An existing connection was forcibly\n",
      "[nltk_data]     closed by the remote host>\n"
     ]
    },
    {
     "data": {
      "text/plain": [
       "False"
      ]
     },
     "execution_count": 129,
     "metadata": {},
     "output_type": "execute_result"
    }
   ],
   "source": [
    "nltk.download('averaged_perceptron_tagger')"
   ]
  },
  {
   "cell_type": "code",
   "execution_count": 39,
   "id": "633bb896",
   "metadata": {},
   "outputs": [],
   "source": [
    "from textblob import TextBlob\n",
    "from textblob import Word\n"
   ]
  },
  {
   "cell_type": "code",
   "execution_count": 48,
   "id": "0d11ab79",
   "metadata": {},
   "outputs": [],
   "source": [
    "text=TextBlob(\"It is an amazing class with all intelligen peopl .We ar learni interesting topic NLP\")"
   ]
  },
  {
   "cell_type": "code",
   "execution_count": 41,
   "id": "e53a1210",
   "metadata": {},
   "outputs": [
    {
     "name": "stdout",
     "output_type": "stream",
     "text": [
      "\n",
      "**********************************************************************\n",
      "  Resource \u001b[93maveraged_perceptron_tagger\u001b[0m not found.\n",
      "  Please use the NLTK Downloader to obtain the resource:\n",
      "\n",
      "  \u001b[31m>>> import nltk\n",
      "  >>> nltk.download('averaged_perceptron_tagger')\n",
      "  \u001b[0m\n",
      "  For more information see: https://www.nltk.org/data.html\n",
      "\n",
      "  Attempted to load \u001b[93mtaggers/averaged_perceptron_tagger/averaged_perceptron_tagger.pickle\u001b[0m\n",
      "\n",
      "  Searched in:\n",
      "    - 'C:\\\\Users\\\\DELL/nltk_data'\n",
      "    - 'C:\\\\Users\\\\DELL\\\\anaconda3\\\\nltk_data'\n",
      "    - 'C:\\\\Users\\\\DELL\\\\anaconda3\\\\share\\\\nltk_data'\n",
      "    - 'C:\\\\Users\\\\DELL\\\\anaconda3\\\\lib\\\\nltk_data'\n",
      "    - 'C:\\\\Users\\\\DELL\\\\AppData\\\\Roaming\\\\nltk_data'\n",
      "    - 'C:\\\\nltk_data'\n",
      "    - 'D:\\\\nltk_data'\n",
      "    - 'E:\\\\nltk_data'\n",
      "**********************************************************************\n",
      "\n"
     ]
    },
    {
     "ename": "MissingCorpusError",
     "evalue": "\nLooks like you are missing some required data for this feature.\n\nTo download the necessary data, simply run\n\n    python -m textblob.download_corpora\n\nor use the NLTK downloader to download the missing data: http://nltk.org/data.html\nIf this doesn't fix the problem, file an issue at https://github.com/sloria/TextBlob/issues.\n",
     "output_type": "error",
     "traceback": [
      "\u001b[1;31m---------------------------------------------------------------------------\u001b[0m",
      "\u001b[1;31mLookupError\u001b[0m                               Traceback (most recent call last)",
      "File \u001b[1;32m~\\anaconda3\\lib\\site-packages\\textblob\\decorators.py:35\u001b[0m, in \u001b[0;36mrequires_nltk_corpus.<locals>.decorated\u001b[1;34m(*args, **kwargs)\u001b[0m\n\u001b[0;32m     34\u001b[0m \u001b[38;5;28;01mtry\u001b[39;00m:\n\u001b[1;32m---> 35\u001b[0m     \u001b[38;5;28;01mreturn\u001b[39;00m func(\u001b[38;5;241m*\u001b[39margs, \u001b[38;5;241m*\u001b[39m\u001b[38;5;241m*\u001b[39mkwargs)\n\u001b[0;32m     36\u001b[0m \u001b[38;5;28;01mexcept\u001b[39;00m \u001b[38;5;167;01mLookupError\u001b[39;00m \u001b[38;5;28;01mas\u001b[39;00m err:\n",
      "File \u001b[1;32m~\\anaconda3\\lib\\site-packages\\textblob\\en\\taggers.py:38\u001b[0m, in \u001b[0;36mNLTKTagger.tag\u001b[1;34m(self, text)\u001b[0m\n\u001b[0;32m     36\u001b[0m     text \u001b[38;5;241m=\u001b[39m tb\u001b[38;5;241m.\u001b[39mTextBlob(text)\n\u001b[1;32m---> 38\u001b[0m \u001b[38;5;28;01mreturn\u001b[39;00m \u001b[43mnltk\u001b[49m\u001b[38;5;241;43m.\u001b[39;49m\u001b[43mtag\u001b[49m\u001b[38;5;241;43m.\u001b[39;49m\u001b[43mpos_tag\u001b[49m\u001b[43m(\u001b[49m\u001b[43mtext\u001b[49m\u001b[38;5;241;43m.\u001b[39;49m\u001b[43mtokens\u001b[49m\u001b[43m)\u001b[49m\n",
      "File \u001b[1;32m~\\anaconda3\\lib\\site-packages\\nltk\\tag\\__init__.py:165\u001b[0m, in \u001b[0;36mpos_tag\u001b[1;34m(tokens, tagset, lang)\u001b[0m\n\u001b[0;32m    141\u001b[0m \u001b[38;5;124;03m\"\"\"\u001b[39;00m\n\u001b[0;32m    142\u001b[0m \u001b[38;5;124;03mUse NLTK's currently recommended part of speech tagger to\u001b[39;00m\n\u001b[0;32m    143\u001b[0m \u001b[38;5;124;03mtag the given list of tokens.\u001b[39;00m\n\u001b[1;32m   (...)\u001b[0m\n\u001b[0;32m    163\u001b[0m \u001b[38;5;124;03m:rtype: list(tuple(str, str))\u001b[39;00m\n\u001b[0;32m    164\u001b[0m \u001b[38;5;124;03m\"\"\"\u001b[39;00m\n\u001b[1;32m--> 165\u001b[0m tagger \u001b[38;5;241m=\u001b[39m \u001b[43m_get_tagger\u001b[49m\u001b[43m(\u001b[49m\u001b[43mlang\u001b[49m\u001b[43m)\u001b[49m\n\u001b[0;32m    166\u001b[0m \u001b[38;5;28;01mreturn\u001b[39;00m _pos_tag(tokens, tagset, tagger, lang)\n",
      "File \u001b[1;32m~\\anaconda3\\lib\\site-packages\\nltk\\tag\\__init__.py:107\u001b[0m, in \u001b[0;36m_get_tagger\u001b[1;34m(lang)\u001b[0m\n\u001b[0;32m    106\u001b[0m \u001b[38;5;28;01melse\u001b[39;00m:\n\u001b[1;32m--> 107\u001b[0m     tagger \u001b[38;5;241m=\u001b[39m \u001b[43mPerceptronTagger\u001b[49m\u001b[43m(\u001b[49m\u001b[43m)\u001b[49m\n\u001b[0;32m    108\u001b[0m \u001b[38;5;28;01mreturn\u001b[39;00m tagger\n",
      "File \u001b[1;32m~\\anaconda3\\lib\\site-packages\\nltk\\tag\\perceptron.py:167\u001b[0m, in \u001b[0;36mPerceptronTagger.__init__\u001b[1;34m(self, load)\u001b[0m\n\u001b[0;32m    165\u001b[0m \u001b[38;5;28;01mif\u001b[39;00m load:\n\u001b[0;32m    166\u001b[0m     AP_MODEL_LOC \u001b[38;5;241m=\u001b[39m \u001b[38;5;124m\"\u001b[39m\u001b[38;5;124mfile:\u001b[39m\u001b[38;5;124m\"\u001b[39m \u001b[38;5;241m+\u001b[39m \u001b[38;5;28mstr\u001b[39m(\n\u001b[1;32m--> 167\u001b[0m         \u001b[43mfind\u001b[49m\u001b[43m(\u001b[49m\u001b[38;5;124;43m\"\u001b[39;49m\u001b[38;5;124;43mtaggers/averaged_perceptron_tagger/\u001b[39;49m\u001b[38;5;124;43m\"\u001b[39;49m\u001b[43m \u001b[49m\u001b[38;5;241;43m+\u001b[39;49m\u001b[43m \u001b[49m\u001b[43mPICKLE\u001b[49m\u001b[43m)\u001b[49m\n\u001b[0;32m    168\u001b[0m     )\n\u001b[0;32m    169\u001b[0m     \u001b[38;5;28mself\u001b[39m\u001b[38;5;241m.\u001b[39mload(AP_MODEL_LOC)\n",
      "File \u001b[1;32m~\\anaconda3\\lib\\site-packages\\nltk\\data.py:583\u001b[0m, in \u001b[0;36mfind\u001b[1;34m(resource_name, paths)\u001b[0m\n\u001b[0;32m    582\u001b[0m resource_not_found \u001b[38;5;241m=\u001b[39m \u001b[38;5;124mf\u001b[39m\u001b[38;5;124m\"\u001b[39m\u001b[38;5;130;01m\\n\u001b[39;00m\u001b[38;5;132;01m{\u001b[39;00msep\u001b[38;5;132;01m}\u001b[39;00m\u001b[38;5;130;01m\\n\u001b[39;00m\u001b[38;5;132;01m{\u001b[39;00mmsg\u001b[38;5;132;01m}\u001b[39;00m\u001b[38;5;130;01m\\n\u001b[39;00m\u001b[38;5;132;01m{\u001b[39;00msep\u001b[38;5;132;01m}\u001b[39;00m\u001b[38;5;130;01m\\n\u001b[39;00m\u001b[38;5;124m\"\u001b[39m\n\u001b[1;32m--> 583\u001b[0m \u001b[38;5;28;01mraise\u001b[39;00m \u001b[38;5;167;01mLookupError\u001b[39;00m(resource_not_found)\n",
      "\u001b[1;31mLookupError\u001b[0m: \n**********************************************************************\n  Resource \u001b[93maveraged_perceptron_tagger\u001b[0m not found.\n  Please use the NLTK Downloader to obtain the resource:\n\n  \u001b[31m>>> import nltk\n  >>> nltk.download('averaged_perceptron_tagger')\n  \u001b[0m\n  For more information see: https://www.nltk.org/data.html\n\n  Attempted to load \u001b[93mtaggers/averaged_perceptron_tagger/averaged_perceptron_tagger.pickle\u001b[0m\n\n  Searched in:\n    - 'C:\\\\Users\\\\DELL/nltk_data'\n    - 'C:\\\\Users\\\\DELL\\\\anaconda3\\\\nltk_data'\n    - 'C:\\\\Users\\\\DELL\\\\anaconda3\\\\share\\\\nltk_data'\n    - 'C:\\\\Users\\\\DELL\\\\anaconda3\\\\lib\\\\nltk_data'\n    - 'C:\\\\Users\\\\DELL\\\\AppData\\\\Roaming\\\\nltk_data'\n    - 'C:\\\\nltk_data'\n    - 'D:\\\\nltk_data'\n    - 'E:\\\\nltk_data'\n**********************************************************************\n",
      "\nDuring handling of the above exception, another exception occurred:\n",
      "\u001b[1;31mMissingCorpusError\u001b[0m                        Traceback (most recent call last)",
      "Cell \u001b[1;32mIn[41], line 1\u001b[0m\n\u001b[1;32m----> 1\u001b[0m \u001b[43mtext\u001b[49m\u001b[38;5;241;43m.\u001b[39;49m\u001b[43mtags\u001b[49m\n",
      "File \u001b[1;32m~\\anaconda3\\lib\\site-packages\\textblob\\decorators.py:24\u001b[0m, in \u001b[0;36mcached_property.__get__\u001b[1;34m(self, obj, cls)\u001b[0m\n\u001b[0;32m     22\u001b[0m \u001b[38;5;28;01mif\u001b[39;00m obj \u001b[38;5;129;01mis\u001b[39;00m \u001b[38;5;28;01mNone\u001b[39;00m:\n\u001b[0;32m     23\u001b[0m     \u001b[38;5;28;01mreturn\u001b[39;00m \u001b[38;5;28mself\u001b[39m\n\u001b[1;32m---> 24\u001b[0m value \u001b[38;5;241m=\u001b[39m obj\u001b[38;5;241m.\u001b[39m\u001b[38;5;18m__dict__\u001b[39m[\u001b[38;5;28mself\u001b[39m\u001b[38;5;241m.\u001b[39mfunc\u001b[38;5;241m.\u001b[39m\u001b[38;5;18m__name__\u001b[39m] \u001b[38;5;241m=\u001b[39m \u001b[38;5;28;43mself\u001b[39;49m\u001b[38;5;241;43m.\u001b[39;49m\u001b[43mfunc\u001b[49m\u001b[43m(\u001b[49m\u001b[43mobj\u001b[49m\u001b[43m)\u001b[49m\n\u001b[0;32m     25\u001b[0m \u001b[38;5;28;01mreturn\u001b[39;00m value\n",
      "File \u001b[1;32m~\\anaconda3\\lib\\site-packages\\textblob\\blob.py:499\u001b[0m, in \u001b[0;36mBaseBlob.pos_tags\u001b[1;34m(self)\u001b[0m\n\u001b[0;32m    488\u001b[0m \u001b[38;5;124;03m\"\"\"Returns an list of tuples of the form (word, POS tag).\u001b[39;00m\n\u001b[0;32m    489\u001b[0m \n\u001b[0;32m    490\u001b[0m \u001b[38;5;124;03mExample:\u001b[39;00m\n\u001b[1;32m   (...)\u001b[0m\n\u001b[0;32m    496\u001b[0m \u001b[38;5;124;03m:rtype: list of tuples\u001b[39;00m\n\u001b[0;32m    497\u001b[0m \u001b[38;5;124;03m\"\"\"\u001b[39;00m\n\u001b[0;32m    498\u001b[0m \u001b[38;5;28;01mif\u001b[39;00m \u001b[38;5;28misinstance\u001b[39m(\u001b[38;5;28mself\u001b[39m, TextBlob):\n\u001b[1;32m--> 499\u001b[0m     \u001b[38;5;28;01mreturn\u001b[39;00m [val \u001b[38;5;28;01mfor\u001b[39;00m sublist \u001b[38;5;129;01min\u001b[39;00m [s\u001b[38;5;241m.\u001b[39mpos_tags \u001b[38;5;28;01mfor\u001b[39;00m s \u001b[38;5;129;01min\u001b[39;00m \u001b[38;5;28mself\u001b[39m\u001b[38;5;241m.\u001b[39msentences] \u001b[38;5;28;01mfor\u001b[39;00m val \u001b[38;5;129;01min\u001b[39;00m sublist]\n\u001b[0;32m    500\u001b[0m \u001b[38;5;28;01melse\u001b[39;00m:\n\u001b[0;32m    501\u001b[0m     \u001b[38;5;28;01mreturn\u001b[39;00m [(Word(unicode(word), pos_tag\u001b[38;5;241m=\u001b[39mt), unicode(t))\n\u001b[0;32m    502\u001b[0m             \u001b[38;5;28;01mfor\u001b[39;00m word, t \u001b[38;5;129;01min\u001b[39;00m \u001b[38;5;28mself\u001b[39m\u001b[38;5;241m.\u001b[39mpos_tagger\u001b[38;5;241m.\u001b[39mtag(\u001b[38;5;28mself\u001b[39m)\n\u001b[0;32m    503\u001b[0m             \u001b[38;5;28;01mif\u001b[39;00m \u001b[38;5;129;01mnot\u001b[39;00m PUNCTUATION_REGEX\u001b[38;5;241m.\u001b[39mmatch(unicode(t))]\n",
      "File \u001b[1;32m~\\anaconda3\\lib\\site-packages\\textblob\\blob.py:499\u001b[0m, in \u001b[0;36m<listcomp>\u001b[1;34m(.0)\u001b[0m\n\u001b[0;32m    488\u001b[0m \u001b[38;5;124;03m\"\"\"Returns an list of tuples of the form (word, POS tag).\u001b[39;00m\n\u001b[0;32m    489\u001b[0m \n\u001b[0;32m    490\u001b[0m \u001b[38;5;124;03mExample:\u001b[39;00m\n\u001b[1;32m   (...)\u001b[0m\n\u001b[0;32m    496\u001b[0m \u001b[38;5;124;03m:rtype: list of tuples\u001b[39;00m\n\u001b[0;32m    497\u001b[0m \u001b[38;5;124;03m\"\"\"\u001b[39;00m\n\u001b[0;32m    498\u001b[0m \u001b[38;5;28;01mif\u001b[39;00m \u001b[38;5;28misinstance\u001b[39m(\u001b[38;5;28mself\u001b[39m, TextBlob):\n\u001b[1;32m--> 499\u001b[0m     \u001b[38;5;28;01mreturn\u001b[39;00m [val \u001b[38;5;28;01mfor\u001b[39;00m sublist \u001b[38;5;129;01min\u001b[39;00m [\u001b[43ms\u001b[49m\u001b[38;5;241;43m.\u001b[39;49m\u001b[43mpos_tags\u001b[49m \u001b[38;5;28;01mfor\u001b[39;00m s \u001b[38;5;129;01min\u001b[39;00m \u001b[38;5;28mself\u001b[39m\u001b[38;5;241m.\u001b[39msentences] \u001b[38;5;28;01mfor\u001b[39;00m val \u001b[38;5;129;01min\u001b[39;00m sublist]\n\u001b[0;32m    500\u001b[0m \u001b[38;5;28;01melse\u001b[39;00m:\n\u001b[0;32m    501\u001b[0m     \u001b[38;5;28;01mreturn\u001b[39;00m [(Word(unicode(word), pos_tag\u001b[38;5;241m=\u001b[39mt), unicode(t))\n\u001b[0;32m    502\u001b[0m             \u001b[38;5;28;01mfor\u001b[39;00m word, t \u001b[38;5;129;01min\u001b[39;00m \u001b[38;5;28mself\u001b[39m\u001b[38;5;241m.\u001b[39mpos_tagger\u001b[38;5;241m.\u001b[39mtag(\u001b[38;5;28mself\u001b[39m)\n\u001b[0;32m    503\u001b[0m             \u001b[38;5;28;01mif\u001b[39;00m \u001b[38;5;129;01mnot\u001b[39;00m PUNCTUATION_REGEX\u001b[38;5;241m.\u001b[39mmatch(unicode(t))]\n",
      "File \u001b[1;32m~\\anaconda3\\lib\\site-packages\\textblob\\decorators.py:24\u001b[0m, in \u001b[0;36mcached_property.__get__\u001b[1;34m(self, obj, cls)\u001b[0m\n\u001b[0;32m     22\u001b[0m \u001b[38;5;28;01mif\u001b[39;00m obj \u001b[38;5;129;01mis\u001b[39;00m \u001b[38;5;28;01mNone\u001b[39;00m:\n\u001b[0;32m     23\u001b[0m     \u001b[38;5;28;01mreturn\u001b[39;00m \u001b[38;5;28mself\u001b[39m\n\u001b[1;32m---> 24\u001b[0m value \u001b[38;5;241m=\u001b[39m obj\u001b[38;5;241m.\u001b[39m\u001b[38;5;18m__dict__\u001b[39m[\u001b[38;5;28mself\u001b[39m\u001b[38;5;241m.\u001b[39mfunc\u001b[38;5;241m.\u001b[39m\u001b[38;5;18m__name__\u001b[39m] \u001b[38;5;241m=\u001b[39m \u001b[38;5;28;43mself\u001b[39;49m\u001b[38;5;241;43m.\u001b[39;49m\u001b[43mfunc\u001b[49m\u001b[43m(\u001b[49m\u001b[43mobj\u001b[49m\u001b[43m)\u001b[49m\n\u001b[0;32m     25\u001b[0m \u001b[38;5;28;01mreturn\u001b[39;00m value\n",
      "File \u001b[1;32m~\\anaconda3\\lib\\site-packages\\textblob\\blob.py:502\u001b[0m, in \u001b[0;36mBaseBlob.pos_tags\u001b[1;34m(self)\u001b[0m\n\u001b[0;32m    499\u001b[0m     \u001b[38;5;28;01mreturn\u001b[39;00m [val \u001b[38;5;28;01mfor\u001b[39;00m sublist \u001b[38;5;129;01min\u001b[39;00m [s\u001b[38;5;241m.\u001b[39mpos_tags \u001b[38;5;28;01mfor\u001b[39;00m s \u001b[38;5;129;01min\u001b[39;00m \u001b[38;5;28mself\u001b[39m\u001b[38;5;241m.\u001b[39msentences] \u001b[38;5;28;01mfor\u001b[39;00m val \u001b[38;5;129;01min\u001b[39;00m sublist]\n\u001b[0;32m    500\u001b[0m \u001b[38;5;28;01melse\u001b[39;00m:\n\u001b[0;32m    501\u001b[0m     \u001b[38;5;28;01mreturn\u001b[39;00m [(Word(unicode(word), pos_tag\u001b[38;5;241m=\u001b[39mt), unicode(t))\n\u001b[1;32m--> 502\u001b[0m             \u001b[38;5;28;01mfor\u001b[39;00m word, t \u001b[38;5;129;01min\u001b[39;00m \u001b[38;5;28;43mself\u001b[39;49m\u001b[38;5;241;43m.\u001b[39;49m\u001b[43mpos_tagger\u001b[49m\u001b[38;5;241;43m.\u001b[39;49m\u001b[43mtag\u001b[49m\u001b[43m(\u001b[49m\u001b[38;5;28;43mself\u001b[39;49m\u001b[43m)\u001b[49m\n\u001b[0;32m    503\u001b[0m             \u001b[38;5;28;01mif\u001b[39;00m \u001b[38;5;129;01mnot\u001b[39;00m PUNCTUATION_REGEX\u001b[38;5;241m.\u001b[39mmatch(unicode(t))]\n",
      "File \u001b[1;32m~\\anaconda3\\lib\\site-packages\\textblob\\decorators.py:38\u001b[0m, in \u001b[0;36mrequires_nltk_corpus.<locals>.decorated\u001b[1;34m(*args, **kwargs)\u001b[0m\n\u001b[0;32m     36\u001b[0m \u001b[38;5;28;01mexcept\u001b[39;00m \u001b[38;5;167;01mLookupError\u001b[39;00m \u001b[38;5;28;01mas\u001b[39;00m err:\n\u001b[0;32m     37\u001b[0m     \u001b[38;5;28mprint\u001b[39m(err)\n\u001b[1;32m---> 38\u001b[0m     \u001b[38;5;28;01mraise\u001b[39;00m MissingCorpusError()\n",
      "\u001b[1;31mMissingCorpusError\u001b[0m: \nLooks like you are missing some required data for this feature.\n\nTo download the necessary data, simply run\n\n    python -m textblob.download_corpora\n\nor use the NLTK downloader to download the missing data: http://nltk.org/data.html\nIf this doesn't fix the problem, file an issue at https://github.com/sloria/TextBlob/issues.\n"
     ]
    }
   ],
   "source": [
    "text.tags"
   ]
  },
  {
   "cell_type": "code",
   "execution_count": 45,
   "id": "f6f8b0f2",
   "metadata": {},
   "outputs": [
    {
     "data": {
      "text/plain": [
       "[Sentence(\"It is an amazing class with all intelligent people .We are learning interesting topic NLP\")]"
      ]
     },
     "execution_count": 45,
     "metadata": {},
     "output_type": "execute_result"
    }
   ],
   "source": [
    "text.sentences"
   ]
  },
  {
   "cell_type": "code",
   "execution_count": 46,
   "id": "f3998ded",
   "metadata": {},
   "outputs": [
    {
     "data": {
      "text/plain": [
       "WordList(['It', 'is', 'an', 'amazing', 'class', 'with', 'all', 'intelligent', 'people', 'We', 'are', 'learning', 'interesting', 'topic', 'NLP'])"
      ]
     },
     "execution_count": 46,
     "metadata": {},
     "output_type": "execute_result"
    }
   ],
   "source": [
    "text.words"
   ]
  },
  {
   "cell_type": "code",
   "execution_count": 49,
   "id": "a202afcd",
   "metadata": {},
   "outputs": [
    {
     "data": {
      "text/plain": [
       "TextBlob(\"It is an amazing class with all intelligent people .He ar learn interesting topic NLP\")"
      ]
     },
     "execution_count": 49,
     "metadata": {},
     "output_type": "execute_result"
    }
   ],
   "source": [
    "text.correct()"
   ]
  },
  {
   "cell_type": "code",
   "execution_count": 50,
   "id": "dc811f3b",
   "metadata": {},
   "outputs": [],
   "source": [
    "text=Word(\"It is an amazing class with all intelligen peopl .We ar learni interesting topic NLP\")"
   ]
  },
  {
   "cell_type": "code",
   "execution_count": null,
   "id": "b5246432",
   "metadata": {},
   "outputs": [],
   "source": [
    "text.spellchec"
   ]
  },
  {
   "cell_type": "code",
   "execution_count": 53,
   "id": "6c2d0898",
   "metadata": {},
   "outputs": [
    {
     "name": "stdout",
     "output_type": "stream",
     "text": [
      "word_frequencies Counter({'coding': 2, 'I': 1, 'love': 1, 'is': 1, 'fun': 1, 'and': 1, 'amazing': 1})\n"
     ]
    }
   ],
   "source": [
    "from collections import Counter\n",
    "text=\"I love coding. coding is fun and amazing\"\n",
    "blob=TextBlob(text)\n",
    "\n",
    "word_frequencies=Counter(blob.words)\n",
    "print(\"word_frequencies\",word_frequencies)"
   ]
  },
  {
   "cell_type": "code",
   "execution_count": 70,
   "id": "0ed017eb",
   "metadata": {},
   "outputs": [
    {
     "name": "stdout",
     "output_type": "stream",
     "text": [
      "{'TextBlob_Subjectivity': 0.95, 'TextBlob_Polarity': -0.9, 'TextBlob_Analysis': 'Negative'}\n"
     ]
    }
   ],
   "source": [
    "from textblob import TextBlob\n",
    "\n",
    "def sentiment_analysis(text):\n",
    "    def getSubjectivity(text):\n",
    "        return TextBlob(text).sentiment.subjectivity\n",
    "\n",
    "    def getPolarity(text):\n",
    "        return TextBlob(text).sentiment.polarity\n",
    "\n",
    "    subjectivity = getSubjectivity(text)\n",
    "    polarity = getPolarity(text)\n",
    "\n",
    "    def getAnalysis(score):\n",
    "        if score < 0:\n",
    "            return 'Negative'\n",
    "        elif score == 0:\n",
    "            return 'Neutral'\n",
    "        else:\n",
    "            return 'Positive'\n",
    "\n",
    "    analysis = getAnalysis(polarity)\n",
    "\n",
    "    return {\n",
    "        'TextBlob_Subjectivity': subjectivity,\n",
    "        'TextBlob_Polarity': polarity,\n",
    "        'TextBlob_Analysis': analysis\n",
    "    }\n",
    "\n",
    "text = 'I hate this world because it\\'s so cruel'\n",
    "result = sentiment_analysis(text)\n",
    "print(result)\n"
   ]
  },
  {
   "cell_type": "code",
   "execution_count": 77,
   "id": "53b8061e",
   "metadata": {},
   "outputs": [],
   "source": [
    "text=\"\"\"A recent statement from the White House also said that “G20 partners \n",
    "will discuss a range of joint efforts to tackle global issues, including on the clean \n",
    "energy transition and combatting climate change, mitigating the economic and social \n",
    "impacts of Putin’s war in Ukraine, and increasing the capacity of multilateral \n",
    "development banks, including the World Bank, to better fight poverty, including by \n",
    "addressing global challenges.”\n",
    "\n",
    "India has also presented itself as the “voice of the Global South”, a medium through \n",
    "which underrepresented countries in global affairs will have their issues heard. \n",
    "One aspect of this is acting as a party that can strike a middle-ground when it \n",
    "comes to global conflicts – such as the ongoing war in Ukraine \"\"\"\n",
    "\n",
    "blob = TextBlob(text)"
   ]
  },
  {
   "cell_type": "code",
   "execution_count": 81,
   "id": "fa1cdafb",
   "metadata": {},
   "outputs": [
    {
     "data": {
      "text/plain": [
       "TextBlob(\"وقال بيان صدر مؤخرا من البيت الأبيض \"شركاء G20\n",
       "ستناقش مجموعة من الجهود المشتركة لمعالجة القضايا العالمية ، بما في ذلك على النظيف\n",
       "انتقال الطاقة ومكافحة تغير المناخ ، وتخفيف الاقتصاد والاجتماعي\n",
       "آثار حرب بوتين في أوكرانيا ، وزيادة قدرة متعددة الأطراف\n",
       "بنوك التنمية ، بما في ذلك البنك الدولي ، لمحاربة الفقر بشكل أفضل ، بما في ذلك بواسطة\n",
       "معالجة التحديات العالمية \".\n",
       "\n",
       "كما قدمت الهند نفسها كـ \"صوت الجنوب العالمي\" ، وسيلة من خلالها\n",
       "التي ستقوم بملاحظتها التي تم تمثيلها في الشؤون العالمية.\n",
       "أحد جوانب هذا هو العمل كحزب يمكن أن يضرب الأرضية المتوسطة عندما يكون ذلك\n",
       "يأتي إلى النزاعات العالمية - مثل الحرب المستمرة في أوكرانيا\")"
      ]
     },
     "execution_count": 81,
     "metadata": {},
     "output_type": "execute_result"
    }
   ],
   "source": [
    "blob.translate(from_lang=\"eng\",to=\"ar\")"
   ]
  },
  {
   "cell_type": "code",
   "execution_count": 82,
   "id": "d78fb798",
   "metadata": {},
   "outputs": [
    {
     "data": {
      "text/plain": [
       "TextBlob(\"व्हाइट हाउस के एक हालिया बयान में यह भी कहा गया है कि “G20 पार्टनर्स\n",
       "स्वच्छ सहित वैश्विक मुद्दों से निपटने के लिए संयुक्त प्रयासों की एक श्रृंखला पर चर्चा करेंगे\n",
       "ऊर्जा संक्रमण और जलवायु परिवर्तन का मुकाबला करना, आर्थिक और सामाजिक को कम करना\n",
       "यूक्रेन में पुतिन के युद्ध का प्रभाव, और बहुपक्षीय की क्षमता बढ़ाना\n",
       "विश्व बैंक सहित विकास बैंक, गरीबी से बेहतर लड़ने के लिए, जिनमें शामिल हैं\n",
       "वैश्विक चुनौतियों का समाधान। ”\n",
       "\n",
       "भारत ने खुद को \"ग्लोबल साउथ की आवाज\" के रूप में भी प्रस्तुत किया है, एक माध्यम के माध्यम से\n",
       "वैश्विक मामलों में जो देशों को कम करके आंका जाएगा, उनके मुद्दे सुनेंगे।\n",
       "इसका एक पहलू एक ऐसी पार्टी के रूप में कार्य कर रहा है जो एक मध्य-जमीन पर हमला कर सकता है\n",
       "वैश्विक संघर्षों में आता है - जैसे कि यूक्रेन में चल रहे युद्ध\")"
      ]
     },
     "execution_count": 82,
     "metadata": {},
     "output_type": "execute_result"
    }
   ],
   "source": [
    "blob.translate(from_lang=\"eng\",to=\"hi\")"
   ]
  },
  {
   "cell_type": "code",
   "execution_count": 83,
   "id": "44765d2c",
   "metadata": {},
   "outputs": [],
   "source": [
    "text = TextBlob('Hello')\n"
   ]
  },
  {
   "cell_type": "code",
   "execution_count": 84,
   "id": "e44aa40f",
   "metadata": {},
   "outputs": [
    {
     "data": {
      "text/plain": [
       "TextBlob(\"नमस्ते\")"
      ]
     },
     "execution_count": 84,
     "metadata": {},
     "output_type": "execute_result"
    }
   ],
   "source": [
    "text.translate(from_lang='eng',to='hi')"
   ]
  },
  {
   "cell_type": "code",
   "execution_count": 85,
   "id": "5e5e7e43",
   "metadata": {},
   "outputs": [
    {
     "data": {
      "text/plain": [
       "TextBlob(\"مرحبًا\")"
      ]
     },
     "execution_count": 85,
     "metadata": {},
     "output_type": "execute_result"
    }
   ],
   "source": [
    "text.translate(from_lang='eng',to='ar')"
   ]
  },
  {
   "cell_type": "code",
   "execution_count": 89,
   "id": "7243572b",
   "metadata": {},
   "outputs": [],
   "source": [
    "from nltk.corpus import wordnet\n",
    "from itertools import product"
   ]
  },
  {
   "cell_type": "code",
   "execution_count": 90,
   "id": "c1c10ca8",
   "metadata": {},
   "outputs": [
    {
     "data": {
      "text/plain": [
       "[Synset('happy.a.01'),\n",
       " Synset('felicitous.s.02'),\n",
       " Synset('glad.s.02'),\n",
       " Synset('happy.s.04')]"
      ]
     },
     "execution_count": 90,
     "metadata": {},
     "output_type": "execute_result"
    }
   ],
   "source": [
    "wordnet.synsets('happy')"
   ]
  },
  {
   "cell_type": "code",
   "execution_count": 127,
   "id": "5b1de096",
   "metadata": {},
   "outputs": [
    {
     "data": {
      "text/plain": [
       "(0.8333333333333334, Synset('laugh.n.01'), Synset('cry.n.02'))"
      ]
     },
     "execution_count": 127,
     "metadata": {},
     "output_type": "execute_result"
    }
   ],
   "source": [
    "word1=set(x for x in wordnet.synsets(\"laugh\"))\n",
    "word2=set(x for x in wordnet.synsets(\"crying\"))\n",
    "best=max((wordnet.wup_similarity(s1,s2)or 0,s1,s2) for s1 ,s2 in product(word1,word2))\n",
    "best"
   ]
  },
  {
   "cell_type": "code",
   "execution_count": 96,
   "id": "f2c1ae09",
   "metadata": {},
   "outputs": [],
   "source": [
    "from wordcloud import WordCloud,STOPWORDS"
   ]
  },
  {
   "cell_type": "code",
   "execution_count": 100,
   "id": "d3552224",
   "metadata": {},
   "outputs": [
    {
     "data": {
      "text/plain": [
       "{'a',\n",
       " 'about',\n",
       " 'above',\n",
       " 'after',\n",
       " 'again',\n",
       " 'against',\n",
       " 'all',\n",
       " 'also',\n",
       " 'am',\n",
       " 'an',\n",
       " 'and',\n",
       " 'any',\n",
       " 'are',\n",
       " \"aren't\",\n",
       " 'as',\n",
       " 'at',\n",
       " 'be',\n",
       " 'because',\n",
       " 'been',\n",
       " 'before',\n",
       " 'being',\n",
       " 'below',\n",
       " 'between',\n",
       " 'both',\n",
       " 'but',\n",
       " 'by',\n",
       " 'can',\n",
       " \"can't\",\n",
       " 'cannot',\n",
       " 'com',\n",
       " 'could',\n",
       " \"couldn't\",\n",
       " 'did',\n",
       " \"didn't\",\n",
       " 'do',\n",
       " 'does',\n",
       " \"doesn't\",\n",
       " 'doing',\n",
       " \"don't\",\n",
       " 'down',\n",
       " 'during',\n",
       " 'each',\n",
       " 'else',\n",
       " 'ever',\n",
       " 'few',\n",
       " 'for',\n",
       " 'from',\n",
       " 'further',\n",
       " 'get',\n",
       " 'had',\n",
       " \"hadn't\",\n",
       " 'has',\n",
       " \"hasn't\",\n",
       " 'have',\n",
       " \"haven't\",\n",
       " 'having',\n",
       " 'he',\n",
       " \"he'd\",\n",
       " \"he'll\",\n",
       " \"he's\",\n",
       " 'hence',\n",
       " 'her',\n",
       " 'here',\n",
       " \"here's\",\n",
       " 'hers',\n",
       " 'herself',\n",
       " 'him',\n",
       " 'himself',\n",
       " 'his',\n",
       " 'how',\n",
       " \"how's\",\n",
       " 'however',\n",
       " 'http',\n",
       " 'i',\n",
       " \"i'd\",\n",
       " \"i'll\",\n",
       " \"i'm\",\n",
       " \"i've\",\n",
       " 'if',\n",
       " 'in',\n",
       " 'into',\n",
       " 'is',\n",
       " \"isn't\",\n",
       " 'it',\n",
       " \"it's\",\n",
       " 'its',\n",
       " 'itself',\n",
       " 'just',\n",
       " 'k',\n",
       " \"let's\",\n",
       " 'like',\n",
       " 'me',\n",
       " 'more',\n",
       " 'most',\n",
       " \"mustn't\",\n",
       " 'my',\n",
       " 'myself',\n",
       " 'no',\n",
       " 'nor',\n",
       " 'not',\n",
       " 'of',\n",
       " 'off',\n",
       " 'on',\n",
       " 'once',\n",
       " 'only',\n",
       " 'or',\n",
       " 'other',\n",
       " 'otherwise',\n",
       " 'ought',\n",
       " 'our',\n",
       " 'ours',\n",
       " 'ourselves',\n",
       " 'out',\n",
       " 'over',\n",
       " 'own',\n",
       " 'r',\n",
       " 'same',\n",
       " 'shall',\n",
       " \"shan't\",\n",
       " 'she',\n",
       " \"she'd\",\n",
       " \"she'll\",\n",
       " \"she's\",\n",
       " 'should',\n",
       " \"shouldn't\",\n",
       " 'since',\n",
       " 'so',\n",
       " 'some',\n",
       " 'such',\n",
       " 'than',\n",
       " 'that',\n",
       " \"that's\",\n",
       " 'the',\n",
       " 'their',\n",
       " 'theirs',\n",
       " 'them',\n",
       " 'themselves',\n",
       " 'then',\n",
       " 'there',\n",
       " \"there's\",\n",
       " 'therefore',\n",
       " 'these',\n",
       " 'they',\n",
       " \"they'd\",\n",
       " \"they'll\",\n",
       " \"they're\",\n",
       " \"they've\",\n",
       " 'this',\n",
       " 'those',\n",
       " 'through',\n",
       " 'to',\n",
       " 'too',\n",
       " 'under',\n",
       " 'until',\n",
       " 'up',\n",
       " 'very',\n",
       " 'was',\n",
       " \"wasn't\",\n",
       " 'we',\n",
       " \"we'd\",\n",
       " \"we'll\",\n",
       " \"we're\",\n",
       " \"we've\",\n",
       " 'were',\n",
       " \"weren't\",\n",
       " 'what',\n",
       " \"what's\",\n",
       " 'when',\n",
       " \"when's\",\n",
       " 'where',\n",
       " \"where's\",\n",
       " 'which',\n",
       " 'while',\n",
       " 'who',\n",
       " \"who's\",\n",
       " 'whom',\n",
       " 'why',\n",
       " \"why's\",\n",
       " 'with',\n",
       " \"won't\",\n",
       " 'would',\n",
       " \"wouldn't\",\n",
       " 'www',\n",
       " 'you',\n",
       " \"you'd\",\n",
       " \"you'll\",\n",
       " \"you're\",\n",
       " \"you've\",\n",
       " 'your',\n",
       " 'yours',\n",
       " 'yourself',\n",
       " 'yourselves'}"
      ]
     },
     "execution_count": 100,
     "metadata": {},
     "output_type": "execute_result"
    }
   ],
   "source": [
    "stop_words = STOPWORDS\n",
    "stop_words"
   ]
  },
  {
   "cell_type": "code",
   "execution_count": 119,
   "id": "dc422c24",
   "metadata": {},
   "outputs": [],
   "source": [
    "wcloud = WordCloud(max_words=50,stopwords=STOPWORDS.add('PICHAI'))"
   ]
  },
  {
   "cell_type": "code",
   "execution_count": 120,
   "id": "59947d48",
   "metadata": {},
   "outputs": [
    {
     "data": {
      "text/plain": [
       "<wordcloud.wordcloud.WordCloud at 0x1af469d9090>"
      ]
     },
     "execution_count": 120,
     "metadata": {},
     "output_type": "execute_result"
    }
   ],
   "source": [
    "wcloud.generate(sentence)"
   ]
  },
  {
   "cell_type": "code",
   "execution_count": 121,
   "id": "c1b604ca",
   "metadata": {},
   "outputs": [],
   "source": [
    "import matplotlib.pyplot as plt"
   ]
  },
  {
   "cell_type": "code",
   "execution_count": 122,
   "id": "425dc391",
   "metadata": {
    "scrolled": true
   },
   "outputs": [
    {
     "data": {
      "image/png": "[encoded data removed]",
      "text/plain": [
       "<Figure size 1600x1400 with 1 Axes>"
      ]
     },
     "metadata": {},
     "output_type": "display_data"
    }
   ],
   "source": [
    "import matplotlib.pyplot as plt\n",
    "plt.figure(figsize=(16,14))\n",
    "plt.imshow(wcloud)\n",
    "plt.show()"
   ]
  },
  {
   "cell_type": "code",
   "execution_count": 126,
   "id": "e214075a",
   "metadata": {},
   "outputs": [
    {
     "data": {
      "text/plain": [
       "5"
      ]
     },
     "execution_count": 126,
     "metadata": {},
     "output_type": "execute_result"
    }
   ],
   "source": [
    "nltk.edit_distance(\"happyyyyy\",\"sappy\")"
   ]
  },
  {
   "cell_type": "code",
   "execution_count": 134,
   "id": "469b3223",
   "metadata": {},
   "outputs": [],
   "source": [
    "from sklearn.feature_extraction.text import CountVectorizer,TfidfVectorizer\n",
    "import pandas as pd"
   ]
  },
  {
   "cell_type": "code",
   "execution_count": 153,
   "id": "9313c416",
   "metadata": {},
   "outputs": [],
   "source": [
    "df100=pd.DataFrame({\"Text\":[\"Hello friends we all are intelligent\",\n",
    "                           \"intelligent people teach others also\",\n",
    "                           \"friends are source of hapiness\",\n",
    "                           \"Hello friends lets meet next week\"],\n",
    "                   \"Output\":[0,1,1,0]})"
   ]
  },
  {
   "cell_type": "code",
   "execution_count": 167,
   "id": "9cb2a83e",
   "metadata": {},
   "outputs": [],
   "source": [
    "vector1 = CountVectorizer(stop_words=list(STOPWORDS))\n",
    "vector2 = TfidfVectorizer(stop_words=list(STOPWORDS),max_features=8)"
   ]
  },
  {
   "cell_type": "code",
   "execution_count": 168,
   "id": "6d76802d",
   "metadata": {},
   "outputs": [
    {
     "name": "stderr",
     "output_type": "stream",
     "text": [
      "C:\\Users\\DELL\\anaconda3\\lib\\site-packages\\sklearn\\feature_extraction\\text.py:409: UserWarning: Your stop_words may be inconsistent with your preprocessing. Tokenizing the stop words generated tokens ['aren', 'couldn', 'didn', 'doesn', 'don', 'hadn', 'hasn', 'haven', 'isn', 'let', 'll', 'mustn', 'pichai', 're', 'shan', 'shouldn', 've', 'wasn', 'weren', 'won', 'wouldn'] not in stop_words.\n",
      "  warnings.warn(\n"
     ]
    },
    {
     "data": {
      "text/plain": [
       "<4x12 sparse matrix of type '<class 'numpy.int64'>'\n",
       "\twith 16 stored elements in Compressed Sparse Row format>"
      ]
     },
     "execution_count": 168,
     "metadata": {},
     "output_type": "execute_result"
    }
   ],
   "source": [
    "vector1.fit_transform(df100['Text'])"
   ]
  },
  {
   "cell_type": "code",
   "execution_count": 169,
   "id": "8d274687",
   "metadata": {},
   "outputs": [
    {
     "data": {
      "text/plain": [
       "<4x8 sparse matrix of type '<class 'numpy.float64'>'\n",
       "\twith 12 stored elements in Compressed Sparse Row format>"
      ]
     },
     "execution_count": 169,
     "metadata": {},
     "output_type": "execute_result"
    }
   ],
   "source": [
    "vector2.fit_transform(df100['Text'])"
   ]
  },
  {
   "cell_type": "code",
   "execution_count": 170,
   "id": "7d39b281",
   "metadata": {},
   "outputs": [
    {
     "data": {
      "text/plain": [
       "{'hello': 2,\n",
       " 'friends': 0,\n",
       " 'intelligent': 3,\n",
       " 'people': 8,\n",
       " 'teach': 10,\n",
       " 'others': 7,\n",
       " 'source': 9,\n",
       " 'hapiness': 1,\n",
       " 'lets': 4,\n",
       " 'meet': 5,\n",
       " 'next': 6,\n",
       " 'week': 11}"
      ]
     },
     "execution_count": 170,
     "metadata": {},
     "output_type": "execute_result"
    }
   ],
   "source": [
    "vector1.vocabulary_"
   ]
  },
  {
   "cell_type": "code",
   "execution_count": 171,
   "id": "87ea9589",
   "metadata": {},
   "outputs": [
    {
     "data": {
      "text/plain": [
       "{'hello': 2,\n",
       " 'friends': 0,\n",
       " 'intelligent': 3,\n",
       " 'others': 7,\n",
       " 'hapiness': 1,\n",
       " 'lets': 4,\n",
       " 'meet': 5,\n",
       " 'next': 6}"
      ]
     },
     "execution_count": 171,
     "metadata": {},
     "output_type": "execute_result"
    }
   ],
   "source": [
    "vector2.vocabulary_"
   ]
  },
  {
   "cell_type": "code",
   "execution_count": 172,
   "id": "06d6a71d",
   "metadata": {},
   "outputs": [
    {
     "data": {
      "text/plain": [
       "array([[1, 0, 1, 1, 0, 0, 0, 0, 0, 0, 0, 0],\n",
       "       [0, 0, 0, 1, 0, 0, 0, 1, 1, 0, 1, 0],\n",
       "       [1, 1, 0, 0, 0, 0, 0, 0, 0, 1, 0, 0],\n",
       "       [1, 0, 1, 0, 1, 1, 1, 0, 0, 0, 0, 1]], dtype=int64)"
      ]
     },
     "execution_count": 172,
     "metadata": {},
     "output_type": "execute_result"
    }
   ],
   "source": [
    "BOW1 = vector1.fit_transform(df100['Text']).toarray()\n",
    "BOW1"
   ]
  },
  {
   "cell_type": "code",
   "execution_count": 173,
   "id": "5d17a640",
   "metadata": {},
   "outputs": [
    {
     "data": {
      "text/plain": [
       "array([[0.49681612, 0.        , 0.61366674, 0.61366674, 0.        ,\n",
       "        0.        , 0.        , 0.        ],\n",
       "       [0.        , 0.        , 0.        , 0.6191303 , 0.        ,\n",
       "        0.        , 0.        , 0.78528828],\n",
       "       [0.53802897, 0.84292635, 0.        , 0.        , 0.        ,\n",
       "        0.        , 0.        , 0.        ],\n",
       "       [0.31799276, 0.        , 0.39278432, 0.        , 0.49819711,\n",
       "        0.49819711, 0.49819711, 0.        ]])"
      ]
     },
     "execution_count": 173,
     "metadata": {},
     "output_type": "execute_result"
    }
   ],
   "source": [
    "BOW2 = vector2.fit_transform(df100['Text']).toarray()\n",
    "BOW2"
   ]
  },
  {
   "cell_type": "code",
   "execution_count": 174,
   "id": "288a2920",
   "metadata": {},
   "outputs": [
    {
     "data": {
      "text/html": [
       "<div>\n",
       "<style scoped>\n",
       "    .dataframe tbody tr th:only-of-type {\n",
       "        vertical-align: middle;\n",
       "    }\n",
       "\n",
       "    .dataframe tbody tr th {\n",
       "        vertical-align: top;\n",
       "    }\n",
       "\n",
       "    .dataframe thead th {\n",
       "        text-align: right;\n",
       "    }\n",
       "</style>\n",
       "<table border=\"1\" class=\"dataframe\">\n",
       "  <thead>\n",
       "    <tr style=\"text-align: right;\">\n",
       "      <th></th>\n",
       "      <th>friends</th>\n",
       "      <th>hapiness</th>\n",
       "      <th>hello</th>\n",
       "      <th>intelligent</th>\n",
       "      <th>lets</th>\n",
       "      <th>meet</th>\n",
       "      <th>next</th>\n",
       "      <th>others</th>\n",
       "      <th>people</th>\n",
       "      <th>source</th>\n",
       "      <th>teach</th>\n",
       "      <th>week</th>\n",
       "    </tr>\n",
       "  </thead>\n",
       "  <tbody>\n",
       "    <tr>\n",
       "      <th>0</th>\n",
       "      <td>1</td>\n",
       "      <td>0</td>\n",
       "      <td>1</td>\n",
       "      <td>1</td>\n",
       "      <td>0</td>\n",
       "      <td>0</td>\n",
       "      <td>0</td>\n",
       "      <td>0</td>\n",
       "      <td>0</td>\n",
       "      <td>0</td>\n",
       "      <td>0</td>\n",
       "      <td>0</td>\n",
       "    </tr>\n",
       "    <tr>\n",
       "      <th>1</th>\n",
       "      <td>0</td>\n",
       "      <td>0</td>\n",
       "      <td>0</td>\n",
       "      <td>1</td>\n",
       "      <td>0</td>\n",
       "      <td>0</td>\n",
       "      <td>0</td>\n",
       "      <td>1</td>\n",
       "      <td>1</td>\n",
       "      <td>0</td>\n",
       "      <td>1</td>\n",
       "      <td>0</td>\n",
       "    </tr>\n",
       "    <tr>\n",
       "      <th>2</th>\n",
       "      <td>1</td>\n",
       "      <td>1</td>\n",
       "      <td>0</td>\n",
       "      <td>0</td>\n",
       "      <td>0</td>\n",
       "      <td>0</td>\n",
       "      <td>0</td>\n",
       "      <td>0</td>\n",
       "      <td>0</td>\n",
       "      <td>1</td>\n",
       "      <td>0</td>\n",
       "      <td>0</td>\n",
       "    </tr>\n",
       "    <tr>\n",
       "      <th>3</th>\n",
       "      <td>1</td>\n",
       "      <td>0</td>\n",
       "      <td>1</td>\n",
       "      <td>0</td>\n",
       "      <td>1</td>\n",
       "      <td>1</td>\n",
       "      <td>1</td>\n",
       "      <td>0</td>\n",
       "      <td>0</td>\n",
       "      <td>0</td>\n",
       "      <td>0</td>\n",
       "      <td>1</td>\n",
       "    </tr>\n",
       "  </tbody>\n",
       "</table>\n",
       "</div>"
      ],
      "text/plain": [
       "   friends  hapiness  hello  intelligent  lets  meet  next  others  people  \\\n",
       "0        1         0      1            1     0     0     0       0       0   \n",
       "1        0         0      0            1     0     0     0       1       1   \n",
       "2        1         1      0            0     0     0     0       0       0   \n",
       "3        1         0      1            0     1     1     1       0       0   \n",
       "\n",
       "   source  teach  week  \n",
       "0       0      0     0  \n",
       "1       0      1     0  \n",
       "2       1      0     0  \n",
       "3       0      0     1  "
      ]
     },
     "execution_count": 174,
     "metadata": {},
     "output_type": "execute_result"
    }
   ],
   "source": [
    "df200 = pd.DataFrame(data=BOW1,columns=vector1.get_feature_names_out())\n",
    "df200"
   ]
  },
  {
   "cell_type": "code",
   "execution_count": 175,
   "id": "aa7efc7d",
   "metadata": {},
   "outputs": [
    {
     "data": {
      "text/html": [
       "<div>\n",
       "<style scoped>\n",
       "    .dataframe tbody tr th:only-of-type {\n",
       "        vertical-align: middle;\n",
       "    }\n",
       "\n",
       "    .dataframe tbody tr th {\n",
       "        vertical-align: top;\n",
       "    }\n",
       "\n",
       "    .dataframe thead th {\n",
       "        text-align: right;\n",
       "    }\n",
       "</style>\n",
       "<table border=\"1\" class=\"dataframe\">\n",
       "  <thead>\n",
       "    <tr style=\"text-align: right;\">\n",
       "      <th></th>\n",
       "      <th>friends</th>\n",
       "      <th>hapiness</th>\n",
       "      <th>hello</th>\n",
       "      <th>intelligent</th>\n",
       "      <th>lets</th>\n",
       "      <th>meet</th>\n",
       "      <th>next</th>\n",
       "      <th>others</th>\n",
       "    </tr>\n",
       "  </thead>\n",
       "  <tbody>\n",
       "    <tr>\n",
       "      <th>0</th>\n",
       "      <td>0.496816</td>\n",
       "      <td>0.000000</td>\n",
       "      <td>0.613667</td>\n",
       "      <td>0.613667</td>\n",
       "      <td>0.000000</td>\n",
       "      <td>0.000000</td>\n",
       "      <td>0.000000</td>\n",
       "      <td>0.000000</td>\n",
       "    </tr>\n",
       "    <tr>\n",
       "      <th>1</th>\n",
       "      <td>0.000000</td>\n",
       "      <td>0.000000</td>\n",
       "      <td>0.000000</td>\n",
       "      <td>0.619130</td>\n",
       "      <td>0.000000</td>\n",
       "      <td>0.000000</td>\n",
       "      <td>0.000000</td>\n",
       "      <td>0.785288</td>\n",
       "    </tr>\n",
       "    <tr>\n",
       "      <th>2</th>\n",
       "      <td>0.538029</td>\n",
       "      <td>0.842926</td>\n",
       "      <td>0.000000</td>\n",
       "      <td>0.000000</td>\n",
       "      <td>0.000000</td>\n",
       "      <td>0.000000</td>\n",
       "      <td>0.000000</td>\n",
       "      <td>0.000000</td>\n",
       "    </tr>\n",
       "    <tr>\n",
       "      <th>3</th>\n",
       "      <td>0.317993</td>\n",
       "      <td>0.000000</td>\n",
       "      <td>0.392784</td>\n",
       "      <td>0.000000</td>\n",
       "      <td>0.498197</td>\n",
       "      <td>0.498197</td>\n",
       "      <td>0.498197</td>\n",
       "      <td>0.000000</td>\n",
       "    </tr>\n",
       "  </tbody>\n",
       "</table>\n",
       "</div>"
      ],
      "text/plain": [
       "    friends  hapiness     hello  intelligent      lets      meet      next  \\\n",
       "0  0.496816  0.000000  0.613667     0.613667  0.000000  0.000000  0.000000   \n",
       "1  0.000000  0.000000  0.000000     0.619130  0.000000  0.000000  0.000000   \n",
       "2  0.538029  0.842926  0.000000     0.000000  0.000000  0.000000  0.000000   \n",
       "3  0.317993  0.000000  0.392784     0.000000  0.498197  0.498197  0.498197   \n",
       "\n",
       "     others  \n",
       "0  0.000000  \n",
       "1  0.785288  \n",
       "2  0.000000  \n",
       "3  0.000000  "
      ]
     },
     "execution_count": 175,
     "metadata": {},
     "output_type": "execute_result"
    }
   ],
   "source": [
    "df300 = pd.DataFrame(data=BOW2,columns=vector2.get_feature_names_out())\n",
    "df300"
   ]
  },
  {
   "cell_type": "code",
   "execution_count": null,
   "id": "c2a3db7f",
   "metadata": {},
   "outputs": [],
   "source": []
  }
 ],
 "metadata": {
  "kernelspec": {
   "display_name": "Python 3 (ipykernel)",
   "language": "python",
   "name": "python3"
  },
  "language_info": {
   "codemirror_mode": {
    "name": "ipython",
    "version": 3
   },
   "file_extension": ".py",
   "mimetype": "text/x-python",
   "name": "python",
   "nbconvert_exporter": "python",
   "pygments_lexer": "ipython3",
   "version": "3.10.9"
  }
 },
 "nbformat": 4,
 "nbformat_minor": 5
}
