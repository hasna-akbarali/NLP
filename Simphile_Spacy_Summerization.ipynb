{
 "cells": [
  {
   "cell_type": "code",
   "execution_count": 1,
   "id": "dd7e6649",
   "metadata": {},
   "outputs": [
    {
     "name": "stdout",
     "output_type": "stream",
     "text": [
      "Collecting simphile\n",
      "  Downloading simphile-1.0.2-py3-none-any.whl (12 kB)\n",
      "Requirement already satisfied: scipy in c:\\users\\dell\\anaconda3\\lib\\site-packages (from simphile) (1.10.0)\n",
      "Requirement already satisfied: numpy<1.27.0,>=1.19.5 in c:\\users\\dell\\anaconda3\\lib\\site-packages (from scipy->simphile) (1.23.5)\n",
      "Installing collected packages: simphile\n",
      "Successfully installed simphile-1.0.2\n",
      "Note: you may need to restart the kernel to use updated packages.\n"
     ]
    }
   ],
   "source": [
    "pip install simphile"
   ]
  },
  {
   "cell_type": "code",
   "execution_count": 5,
   "id": "cfcbfa69",
   "metadata": {},
   "outputs": [
    {
     "name": "stdout",
     "output_type": "stream",
     "text": [
      "Jaccard Similarity:  0.25\n",
      "Euclidian Similarity:  0.6127016653792583\n",
      "Compression Similarity:  0.32098765432098775\n"
     ]
    }
   ],
   "source": [
    "from simphile import jaccard_similarity,euclidian_similarity,compression_similarity\n",
    "\n",
    "text1 = 'I enjoy Deep Learning Course'\n",
    "text2 = 'I love Artificial Intelligence Course'\n",
    "\n",
    "\n",
    "print('Jaccard Similarity: ',jaccard_similarity(text1,text2))\n",
    "print('Euclidian Similarity: ',euclidian_similarity(text1,text2))\n",
    "print('Compression Similarity: ',compression_similarity(text1,text2))"
   ]
  },
  {
   "cell_type": "code",
   "execution_count": 14,
   "id": "7439086d",
   "metadata": {},
   "outputs": [],
   "source": [
    "text1=\"\"\"Do you think you could build a car powered by nothing but air? \n",
    "A balloon-powered car is pushed forward by air escaping from a balloon, \n",
    "and it is fun and easy to build with materials you already have around your house. \n",
    "Can you imagine how you would want your own balloon-powered car to look? \n",
    "Can you design a car that will travel as far as possible? You can even \n",
    "measure your car's speed using your smartphone and a special sensor app. \n",
    "Get ready to grab some simple supplies to bring your idea to life!\"\"\""
   ]
  },
  {
   "cell_type": "code",
   "execution_count": 15,
   "id": "f4b4018c",
   "metadata": {},
   "outputs": [],
   "source": [
    "text2=\"\"\"\n",
    "Can you imagine how you would want your own balloon-powered car to look? \n",
    "Can you design a car that will travel as far as possible? You can even \n",
    "measure your car's speed using your smartphone and a special sensor app.\n",
    "Do you think you could build a car powered by nothing but air? \n",
    "A balloon-powered car is pushed forward by air escaping from a balloon, \n",
    "and it is fun and easy to build with materials you already have around your house. \n",
    "Get ready to grab some simple supplies to bring your idea to life!\"\"\""
   ]
  },
  {
   "cell_type": "code",
   "execution_count": 16,
   "id": "808c9d14",
   "metadata": {},
   "outputs": [
    {
     "name": "stdout",
     "output_type": "stream",
     "text": [
      "Jaccard Similarity:  1.0\n",
      "Euclidian Similarity:  1.0\n",
      "Compression Similarity:  0.9559322033898305\n"
     ]
    }
   ],
   "source": [
    "print('Jaccard Similarity: ',jaccard_similarity(text1,text2))\n",
    "print('Euclidian Similarity: ',euclidian_similarity(text1,text2))\n",
    "print('Compression Similarity: ',compression_similarity(text1,text2))"
   ]
  },
  {
   "cell_type": "code",
   "execution_count": 17,
   "id": "9dae55ef",
   "metadata": {},
   "outputs": [
    {
     "name": "stdout",
     "output_type": "stream",
     "text": [
      "Collecting spacy\n",
      "  Downloading spacy-3.6.1-cp310-cp310-win_amd64.whl (12.0 MB)\n",
      "     -------------------------------------- 12.0/12.0 MB 440.3 kB/s eta 0:00:00\n",
      "Requirement already satisfied: tqdm<5.0.0,>=4.38.0 in c:\\users\\dell\\anaconda3\\lib\\site-packages (from spacy) (4.64.1)\n",
      "Collecting cymem<2.1.0,>=2.0.2\n",
      "  Downloading cymem-2.0.8-cp310-cp310-win_amd64.whl (39 kB)\n",
      "Collecting wasabi<1.2.0,>=0.9.1\n",
      "  Downloading wasabi-1.1.2-py3-none-any.whl (27 kB)\n",
      "Collecting srsly<3.0.0,>=2.4.3\n",
      "  Downloading srsly-2.4.8-cp310-cp310-win_amd64.whl (481 kB)\n",
      "     ------------------------------------ 481.9/481.9 kB 165.0 kB/s eta 0:00:00\n",
      "Requirement already satisfied: packaging>=20.0 in c:\\users\\dell\\anaconda3\\lib\\site-packages (from spacy) (22.0)\n",
      "Collecting catalogue<2.1.0,>=2.0.6\n",
      "  Downloading catalogue-2.0.10-py3-none-any.whl (17 kB)\n",
      "Requirement already satisfied: setuptools in c:\\users\\dell\\anaconda3\\lib\\site-packages (from spacy) (65.6.3)\n",
      "Collecting thinc<8.2.0,>=8.1.8\n",
      "  Downloading thinc-8.1.12-cp310-cp310-win_amd64.whl (1.5 MB)\n",
      "     ---------------------------------------- 1.5/1.5 MB 335.6 kB/s eta 0:00:00\n",
      "Collecting pydantic!=1.8,!=1.8.1,<3.0.0,>=1.7.4\n",
      "  Downloading pydantic-2.4.0-py3-none-any.whl (395 kB)\n",
      "     ------------------------------------ 395.4/395.4 kB 535.7 kB/s eta 0:00:00\n",
      "Collecting spacy-loggers<2.0.0,>=1.0.0\n",
      "  Downloading spacy_loggers-1.0.5-py3-none-any.whl (22 kB)\n",
      "Requirement already satisfied: smart-open<7.0.0,>=5.2.1 in c:\\users\\dell\\anaconda3\\lib\\site-packages (from spacy) (5.2.1)\n",
      "Collecting langcodes<4.0.0,>=3.2.0\n",
      "  Downloading langcodes-3.3.0-py3-none-any.whl (181 kB)\n",
      "     ------------------------------------ 181.6/181.6 kB 644.4 kB/s eta 0:00:00\n",
      "Collecting typer<0.10.0,>=0.3.0\n",
      "  Downloading typer-0.9.0-py3-none-any.whl (45 kB)\n",
      "     -------------------------------------- 45.9/45.9 kB 565.4 kB/s eta 0:00:00\n",
      "Requirement already satisfied: jinja2 in c:\\users\\dell\\anaconda3\\lib\\site-packages (from spacy) (3.1.2)\n",
      "Collecting preshed<3.1.0,>=3.0.2\n",
      "  Downloading preshed-3.0.9-cp310-cp310-win_amd64.whl (122 kB)\n",
      "     ------------------------------------ 122.2/122.2 kB 478.6 kB/s eta 0:00:00\n",
      "Collecting murmurhash<1.1.0,>=0.28.0\n",
      "  Downloading murmurhash-1.0.10-cp310-cp310-win_amd64.whl (25 kB)\n",
      "Collecting spacy-legacy<3.1.0,>=3.0.11\n",
      "  Downloading spacy_legacy-3.0.12-py2.py3-none-any.whl (29 kB)\n",
      "Collecting pathy>=0.10.0\n",
      "  Downloading pathy-0.10.2-py3-none-any.whl (48 kB)\n",
      "     -------------------------------------- 48.9/48.9 kB 123.8 kB/s eta 0:00:00\n",
      "Requirement already satisfied: requests<3.0.0,>=2.13.0 in c:\\users\\dell\\anaconda3\\lib\\site-packages (from spacy) (2.28.1)\n",
      "Requirement already satisfied: numpy>=1.15.0 in c:\\users\\dell\\anaconda3\\lib\\site-packages (from spacy) (1.23.5)\n",
      "Collecting pydantic-core==2.10.0\n",
      "  Downloading pydantic_core-2.10.0-cp310-none-win_amd64.whl (2.0 MB)\n",
      "     ---------------------------------------- 2.0/2.0 MB 306.2 kB/s eta 0:00:00\n",
      "Collecting typing-extensions>=4.6.1\n",
      "  Using cached typing_extensions-4.8.0-py3-none-any.whl (31 kB)\n",
      "Collecting annotated-types>=0.4.0\n",
      "  Downloading annotated_types-0.5.0-py3-none-any.whl (11 kB)\n",
      "Requirement already satisfied: urllib3<1.27,>=1.21.1 in c:\\users\\dell\\anaconda3\\lib\\site-packages (from requests<3.0.0,>=2.13.0->spacy) (1.26.14)\n",
      "Requirement already satisfied: certifi>=2017.4.17 in c:\\users\\dell\\anaconda3\\lib\\site-packages (from requests<3.0.0,>=2.13.0->spacy) (2023.5.7)\n",
      "Requirement already satisfied: charset-normalizer<3,>=2 in c:\\users\\dell\\anaconda3\\lib\\site-packages (from requests<3.0.0,>=2.13.0->spacy) (2.0.4)\n",
      "Requirement already satisfied: idna<4,>=2.5 in c:\\users\\dell\\anaconda3\\lib\\site-packages (from requests<3.0.0,>=2.13.0->spacy) (3.4)\n",
      "Collecting blis<0.8.0,>=0.7.8\n",
      "  Downloading blis-0.7.11-cp310-cp310-win_amd64.whl (6.6 MB)\n",
      "     ---------------------------------------- 6.6/6.6 MB 247.5 kB/s eta 0:00:00\n",
      "Collecting confection<1.0.0,>=0.0.1\n",
      "  Downloading confection-0.1.3-py3-none-any.whl (34 kB)\n",
      "Requirement already satisfied: colorama in c:\\users\\dell\\anaconda3\\lib\\site-packages (from tqdm<5.0.0,>=4.38.0->spacy) (0.4.6)\n",
      "Requirement already satisfied: click<9.0.0,>=7.1.1 in c:\\users\\dell\\anaconda3\\lib\\site-packages (from typer<0.10.0,>=0.3.0->spacy) (8.0.4)\n",
      "Requirement already satisfied: MarkupSafe>=2.0 in c:\\users\\dell\\anaconda3\\lib\\site-packages (from jinja2->spacy) (2.1.1)\n",
      "Installing collected packages: cymem, wasabi, typing-extensions, spacy-loggers, spacy-legacy, murmurhash, langcodes, catalogue, blis, annotated-types, typer, srsly, pydantic-core, preshed, pydantic, pathy, confection, thinc, spacy\n",
      "  Attempting uninstall: typing-extensions\n",
      "    Found existing installation: typing_extensions 4.4.0\n",
      "    Uninstalling typing_extensions-4.4.0:\n",
      "      Successfully uninstalled typing_extensions-4.4.0\n",
      "Successfully installed annotated-types-0.5.0 blis-0.7.11 catalogue-2.0.10 confection-0.1.3 cymem-2.0.8 langcodes-3.3.0 murmurhash-1.0.10 pathy-0.10.2 preshed-3.0.9 pydantic-2.4.0 pydantic-core-2.10.0 spacy-3.6.1 spacy-legacy-3.0.12 spacy-loggers-1.0.5 srsly-2.4.8 thinc-8.1.12 typer-0.9.0 typing-extensions-4.8.0 wasabi-1.1.2\n",
      "Note: you may need to restart the kernel to use updated packages.\n"
     ]
    }
   ],
   "source": [
    "pip install spacy"
   ]
  },
  {
   "cell_type": "code",
   "execution_count": 20,
   "id": "9f497960",
   "metadata": {},
   "outputs": [
    {
     "name": "stdout",
     "output_type": "stream",
     "text": [
      "Collecting en-core-web-sm==3.6.0\n",
      "  Downloading https://github.com/explosion/spacy-models/releases/download/en_core_web_sm-3.6.0/en_core_web_sm-3.6.0-py3-none-any.whl (12.8 MB)\n",
      "     -------------------------------------- 12.8/12.8 MB 693.8 kB/s eta 0:00:00\n",
      "Requirement already satisfied: spacy<3.7.0,>=3.6.0 in c:\\users\\dell\\anaconda3\\lib\\site-packages (from en-core-web-sm==3.6.0) (3.6.1)\n",
      "Requirement already satisfied: pydantic!=1.8,!=1.8.1,<3.0.0,>=1.7.4 in c:\\users\\dell\\anaconda3\\lib\\site-packages (from spacy<3.7.0,>=3.6.0->en-core-web-sm==3.6.0) (2.4.0)\n",
      "Requirement already satisfied: setuptools in c:\\users\\dell\\anaconda3\\lib\\site-packages (from spacy<3.7.0,>=3.6.0->en-core-web-sm==3.6.0) (65.6.3)\n",
      "Requirement already satisfied: tqdm<5.0.0,>=4.38.0 in c:\\users\\dell\\anaconda3\\lib\\site-packages (from spacy<3.7.0,>=3.6.0->en-core-web-sm==3.6.0) (4.64.1)\n",
      "Requirement already satisfied: wasabi<1.2.0,>=0.9.1 in c:\\users\\dell\\anaconda3\\lib\\site-packages (from spacy<3.7.0,>=3.6.0->en-core-web-sm==3.6.0) (1.1.2)\n",
      "Requirement already satisfied: requests<3.0.0,>=2.13.0 in c:\\users\\dell\\anaconda3\\lib\\site-packages (from spacy<3.7.0,>=3.6.0->en-core-web-sm==3.6.0) (2.28.1)\n",
      "Requirement already satisfied: cymem<2.1.0,>=2.0.2 in c:\\users\\dell\\anaconda3\\lib\\site-packages (from spacy<3.7.0,>=3.6.0->en-core-web-sm==3.6.0) (2.0.8)\n",
      "Requirement already satisfied: packaging>=20.0 in c:\\users\\dell\\anaconda3\\lib\\site-packages (from spacy<3.7.0,>=3.6.0->en-core-web-sm==3.6.0) (22.0)\n",
      "Requirement already satisfied: numpy>=1.15.0 in c:\\users\\dell\\anaconda3\\lib\\site-packages (from spacy<3.7.0,>=3.6.0->en-core-web-sm==3.6.0) (1.23.5)\n",
      "Requirement already satisfied: catalogue<2.1.0,>=2.0.6 in c:\\users\\dell\\anaconda3\\lib\\site-packages (from spacy<3.7.0,>=3.6.0->en-core-web-sm==3.6.0) (2.0.10)\n",
      "Requirement already satisfied: jinja2 in c:\\users\\dell\\anaconda3\\lib\\site-packages (from spacy<3.7.0,>=3.6.0->en-core-web-sm==3.6.0) (3.1.2)\n",
      "Requirement already satisfied: spacy-legacy<3.1.0,>=3.0.11 in c:\\users\\dell\\anaconda3\\lib\\site-packages (from spacy<3.7.0,>=3.6.0->en-core-web-sm==3.6.0) (3.0.12)\n",
      "Requirement already satisfied: spacy-loggers<2.0.0,>=1.0.0 in c:\\users\\dell\\anaconda3\\lib\\site-packages (from spacy<3.7.0,>=3.6.0->en-core-web-sm==3.6.0) (1.0.5)\n",
      "Requirement already satisfied: thinc<8.2.0,>=8.1.8 in c:\\users\\dell\\anaconda3\\lib\\site-packages (from spacy<3.7.0,>=3.6.0->en-core-web-sm==3.6.0) (8.1.12)\n",
      "Requirement already satisfied: murmurhash<1.1.0,>=0.28.0 in c:\\users\\dell\\anaconda3\\lib\\site-packages (from spacy<3.7.0,>=3.6.0->en-core-web-sm==3.6.0) (1.0.10)\n",
      "Requirement already satisfied: typer<0.10.0,>=0.3.0 in c:\\users\\dell\\anaconda3\\lib\\site-packages (from spacy<3.7.0,>=3.6.0->en-core-web-sm==3.6.0) (0.9.0)\n",
      "Requirement already satisfied: preshed<3.1.0,>=3.0.2 in c:\\users\\dell\\anaconda3\\lib\\site-packages (from spacy<3.7.0,>=3.6.0->en-core-web-sm==3.6.0) (3.0.9)\n",
      "Requirement already satisfied: pathy>=0.10.0 in c:\\users\\dell\\anaconda3\\lib\\site-packages (from spacy<3.7.0,>=3.6.0->en-core-web-sm==3.6.0) (0.10.2)\n",
      "Requirement already satisfied: smart-open<7.0.0,>=5.2.1 in c:\\users\\dell\\anaconda3\\lib\\site-packages (from spacy<3.7.0,>=3.6.0->en-core-web-sm==3.6.0) (5.2.1)\n",
      "Requirement already satisfied: srsly<3.0.0,>=2.4.3 in c:\\users\\dell\\anaconda3\\lib\\site-packages (from spacy<3.7.0,>=3.6.0->en-core-web-sm==3.6.0) (2.4.8)\n",
      "Requirement already satisfied: langcodes<4.0.0,>=3.2.0 in c:\\users\\dell\\anaconda3\\lib\\site-packages (from spacy<3.7.0,>=3.6.0->en-core-web-sm==3.6.0) (3.3.0)\n",
      "Requirement already satisfied: typing-extensions>=4.6.1 in c:\\users\\dell\\anaconda3\\lib\\site-packages (from pydantic!=1.8,!=1.8.1,<3.0.0,>=1.7.4->spacy<3.7.0,>=3.6.0->en-core-web-sm==3.6.0) (4.8.0)\n",
      "Requirement already satisfied: annotated-types>=0.4.0 in c:\\users\\dell\\anaconda3\\lib\\site-packages (from pydantic!=1.8,!=1.8.1,<3.0.0,>=1.7.4->spacy<3.7.0,>=3.6.0->en-core-web-sm==3.6.0) (0.5.0)\n",
      "Requirement already satisfied: pydantic-core==2.10.0 in c:\\users\\dell\\anaconda3\\lib\\site-packages (from pydantic!=1.8,!=1.8.1,<3.0.0,>=1.7.4->spacy<3.7.0,>=3.6.0->en-core-web-sm==3.6.0) (2.10.0)\n",
      "Requirement already satisfied: charset-normalizer<3,>=2 in c:\\users\\dell\\anaconda3\\lib\\site-packages (from requests<3.0.0,>=2.13.0->spacy<3.7.0,>=3.6.0->en-core-web-sm==3.6.0) (2.0.4)\n",
      "Requirement already satisfied: urllib3<1.27,>=1.21.1 in c:\\users\\dell\\anaconda3\\lib\\site-packages (from requests<3.0.0,>=2.13.0->spacy<3.7.0,>=3.6.0->en-core-web-sm==3.6.0) (1.26.14)\n",
      "Requirement already satisfied: certifi>=2017.4.17 in c:\\users\\dell\\anaconda3\\lib\\site-packages (from requests<3.0.0,>=2.13.0->spacy<3.7.0,>=3.6.0->en-core-web-sm==3.6.0) (2023.5.7)\n",
      "Requirement already satisfied: idna<4,>=2.5 in c:\\users\\dell\\anaconda3\\lib\\site-packages (from requests<3.0.0,>=2.13.0->spacy<3.7.0,>=3.6.0->en-core-web-sm==3.6.0) (3.4)\n",
      "Requirement already satisfied: blis<0.8.0,>=0.7.8 in c:\\users\\dell\\anaconda3\\lib\\site-packages (from thinc<8.2.0,>=8.1.8->spacy<3.7.0,>=3.6.0->en-core-web-sm==3.6.0) (0.7.11)\n",
      "Requirement already satisfied: confection<1.0.0,>=0.0.1 in c:\\users\\dell\\anaconda3\\lib\\site-packages (from thinc<8.2.0,>=8.1.8->spacy<3.7.0,>=3.6.0->en-core-web-sm==3.6.0) (0.1.3)\n",
      "Requirement already satisfied: colorama in c:\\users\\dell\\anaconda3\\lib\\site-packages (from tqdm<5.0.0,>=4.38.0->spacy<3.7.0,>=3.6.0->en-core-web-sm==3.6.0) (0.4.6)\n",
      "Requirement already satisfied: click<9.0.0,>=7.1.1 in c:\\users\\dell\\anaconda3\\lib\\site-packages (from typer<0.10.0,>=0.3.0->spacy<3.7.0,>=3.6.0->en-core-web-sm==3.6.0) (8.0.4)\n",
      "Requirement already satisfied: MarkupSafe>=2.0 in c:\\users\\dell\\anaconda3\\lib\\site-packages (from jinja2->spacy<3.7.0,>=3.6.0->en-core-web-sm==3.6.0) (2.1.1)\n",
      "Installing collected packages: en-core-web-sm\n",
      "Successfully installed en-core-web-sm-3.6.0\n",
      "\u001b[38;5;2m[+] Download and installation successful\u001b[0m\n",
      "You can now load the package via spacy.load('en_core_web_sm')\n"
     ]
    }
   ],
   "source": [
    "!python -m spacy download \"en_core_web_sm\" "
   ]
  },
  {
   "cell_type": "code",
   "execution_count": 22,
   "id": "175ec2ca",
   "metadata": {},
   "outputs": [],
   "source": [
    "import spacy\n",
    "\n",
    "nlpp = spacy.load('en_core_web_sm')\n",
    "\n",
    "doc1=nlpp('hello how are you!')\n",
    "doc2=nlpp('hello hi how are you!')\n",
    "doc3=nlpp('hey whatsup?')"
   ]
  },
  {
   "cell_type": "code",
   "execution_count": 26,
   "id": "8b25c4c7",
   "metadata": {},
   "outputs": [],
   "source": [
    "text1 = nlpp(text1)\n",
    "text2 = nlpp(text2)"
   ]
  },
  {
   "cell_type": "code",
   "execution_count": 23,
   "id": "3e9d20cf",
   "metadata": {},
   "outputs": [
    {
     "name": "stdout",
     "output_type": "stream",
     "text": [
      "0.9567869810872708\n"
     ]
    },
    {
     "name": "stderr",
     "output_type": "stream",
     "text": [
      "C:\\Users\\DELL\\AppData\\Local\\Temp\\ipykernel_12144\\1832338119.py:1: UserWarning: [W007] The model you're using has no word vectors loaded, so the result of the Doc.similarity method will be based on the tagger, parser and NER, which may not give useful similarity judgements. This may happen if you're using one of the small models, e.g. `en_core_web_sm`, which don't ship with word vectors and only use context-sensitive tensors. You can always add your own word vectors, or use one of the larger models instead if available.\n",
      "  print(doc1.similarity(doc2))\n"
     ]
    }
   ],
   "source": [
    "print(doc1.similarity(doc2))"
   ]
  },
  {
   "cell_type": "code",
   "execution_count": 24,
   "id": "8829c080",
   "metadata": {},
   "outputs": [
    {
     "name": "stdout",
     "output_type": "stream",
     "text": [
      "0.5631450308562074\n"
     ]
    },
    {
     "name": "stderr",
     "output_type": "stream",
     "text": [
      "C:\\Users\\DELL\\AppData\\Local\\Temp\\ipykernel_12144\\2139169522.py:1: UserWarning: [W007] The model you're using has no word vectors loaded, so the result of the Doc.similarity method will be based on the tagger, parser and NER, which may not give useful similarity judgements. This may happen if you're using one of the small models, e.g. `en_core_web_sm`, which don't ship with word vectors and only use context-sensitive tensors. You can always add your own word vectors, or use one of the larger models instead if available.\n",
      "  print(doc1.similarity(doc3))\n"
     ]
    }
   ],
   "source": [
    "print(doc1.similarity(doc3))"
   ]
  },
  {
   "cell_type": "code",
   "execution_count": 27,
   "id": "71e91608",
   "metadata": {},
   "outputs": [
    {
     "name": "stdout",
     "output_type": "stream",
     "text": [
      "0.9978583659538603\n"
     ]
    },
    {
     "name": "stderr",
     "output_type": "stream",
     "text": [
      "C:\\Users\\DELL\\AppData\\Local\\Temp\\ipykernel_12144\\261417713.py:1: UserWarning: [W007] The model you're using has no word vectors loaded, so the result of the Doc.similarity method will be based on the tagger, parser and NER, which may not give useful similarity judgements. This may happen if you're using one of the small models, e.g. `en_core_web_sm`, which don't ship with word vectors and only use context-sensitive tensors. You can always add your own word vectors, or use one of the larger models instead if available.\n",
      "  print(text1.similarity(text2))\n"
     ]
    }
   ],
   "source": [
    "print(text1.similarity(text2))"
   ]
  },
  {
   "cell_type": "code",
   "execution_count": 29,
   "id": "4caa0008",
   "metadata": {},
   "outputs": [],
   "source": [
    "import spacy\n",
    "\n",
    "nlpp = spacy.load('en_core_web_sm')\n",
    "text1 = nlpp('Apple is looking to acquire a U.K company for $10 billion dollars')"
   ]
  },
  {
   "cell_type": "code",
   "execution_count": 30,
   "id": "ce537d92",
   "metadata": {},
   "outputs": [
    {
     "data": {
      "text/plain": [
       "(Apple, U.K, $10 billion dollars)"
      ]
     },
     "execution_count": 30,
     "metadata": {},
     "output_type": "execute_result"
    }
   ],
   "source": [
    "text1.ents"
   ]
  },
  {
   "cell_type": "code",
   "execution_count": 31,
   "id": "e2e46513",
   "metadata": {},
   "outputs": [
    {
     "name": "stdout",
     "output_type": "stream",
     "text": [
      "Apple ORG\n",
      "U.K GPE\n",
      "$10 billion dollars MONEY\n"
     ]
    }
   ],
   "source": [
    "for ent in text1.ents:\n",
    "    print(ent.text,ent.label_)"
   ]
  },
  {
   "cell_type": "code",
   "execution_count": 33,
   "id": "c18f7c23",
   "metadata": {},
   "outputs": [],
   "source": [
    "gadar2=\"\"\"Previously, Tara Singh, an Indian truck driver, had made a dramatic escape from \n",
    "Pakistan along with his wife, Sakeena \"Sakku, and their son, Charanjeet \"Jeete\", in 1954. \n",
    "Shortly afterwards, a Pakistani Army General, Hamid Iqbal, gets Ashraf Ali executed for \n",
    "aiding Tara Singh and his family get away to India. Iqbal wants to exact vengeance on Tara \n",
    "for eliminating 40 soldiers during his escape.\n",
    "\n",
    "In 1971, Tara is now a goods supplier to the Indian army cantonment and living with Sakeena \n",
    "and Jeete, who soon leaves for Chandigarh for college. One day, Tara is contacted by\n",
    "Lt. Colonel Devendra Rawat for help in supplying Indian soldiers with weapons as a \n",
    "skirmish is taking place with the Pakistani soldiers at the border, during the \n",
    "Indo-Pakistani War of 1971. After reaching there, Tara is spotted by Iqbal, who orders \n",
    "an explosion at the border, leading to Tara and the soldiers getting captured. \n",
    "Jeete returns from Chandigarh to find Sakeena in shambles. Upon learning about \n",
    "Tara's disappearance at the border, Jeete leaves for Pakistan against everyone's wishes.\n",
    "\n",
    "In Pakistan, Jeete meets Tara's close friend, Gul Khan, who helps him secure a job at \n",
    "Kurban Khan's hotel, which supplies food to the prison where Tara and the Indian soldiers \n",
    "are supposedly being held. Jeete meets and gets close to Kurban's daughter, Muskaan, \n",
    "who continues to support him upon learning that Jeete came there to rescue his father. \n",
    "Jeete infiltrates the prison, only to get captured and discover that Tara was never captured. \n",
    "On the other hand, Tara resurfaces in Punjab and reunites with Sakeena, revealing that he fell\n",
    "into a stream and was rescued by a Bakarwal tribe, but went into a coma. Upon learning that \n",
    "Jeete is in Pakistan and his communication has stopped, Tara decides to head to Pakistan and \n",
    "extract Jeete from the prison. Landing in Pakistan, Tara meets Gul Khan and learns about Jeete's \n",
    "capture.\n",
    "\n",
    "Meanwhile, Iqbal beats up Jeete and gets him publicly humiliated by falsely accusing him of\n",
    "assaulting Muskaan, who is forced to lie in order to protect her father. However, \n",
    "\n",
    "Tara arrives and escapes with Jeete after defeating Iqbal and his army. Yahya Khan, \n",
    "who is the President of Pakistan and the Commander-in-chief of the Pakistan Army, orders \n",
    "Iqbal to capture Tara within 72 hours. Tara and his team contact Sakeena, but are chased by \n",
    "Iqbal's men, eventually getting separated. Following a series of fights and chases, they \n",
    "finally reunite and are on their way to leave Pakistan when Kurban Khan shows up with his \n",
    "family, along with Muskaan. They plan to leave for Balochistan from there.\n",
    "\n",
    "Kurban Khan asks Tara to accept Muskaan as Jeete's bride, to which Jeete and Tara both \n",
    "happily agree. However, Iqbal captures them in an ambush and kills Muskaan's brother, \n",
    "Farid. The next day, Tara fights Iqbal and his army singlehandedly, escaping with everybody\n",
    "in a battle tank. They arrive at the Indian border, where Iqbal tries to kill Tara, but is \n",
    "gunned down by Indian soldiers. Colonel Rawat approves Jeete to enlist in the army, while \n",
    "Tara and Jeete both reunite with Sakeena, with Muskaan in tow.\"\"\""
   ]
  },
  {
   "cell_type": "code",
   "execution_count": 34,
   "id": "546025a4",
   "metadata": {},
   "outputs": [
    {
     "data": {
      "text/plain": [
       "'Previously, Tara Singh, an Indian truck driver, had made a dramatic escape from \\nPakistan along with his wife, Sakeena \"Sakku, and their son, Charanjeet \"Jeete\", in 1954. \\nShortly afterwards, a Pakistani Army General, Hamid Iqbal, gets Ashraf Ali executed for \\naiding Tara Singh and his family get away to India. Iqbal wants to exact vengeance on Tara \\nfor eliminating 40 soldiers during his escape.\\n\\nIn 1971, Tara is now a goods supplier to the Indian army cantonment and living with Sakeena \\nand Jeete, who soon leaves for Chandigarh for college. One day, Tara is contacted by\\nLt. Colonel Devendra Rawat for help in supplying Indian soldiers with weapons as a \\nskirmish is taking place with the Pakistani soldiers at the border, during the \\nIndo-Pakistani War of 1971. After reaching there, Tara is spotted by Iqbal, who orders \\nan explosion at the border, leading to Tara and the soldiers getting captured. \\nJeete returns from Chandigarh to find Sakeena in shambles. Upon learning about \\nTara\\'s disappearance at the border, Jeete leaves for Pakistan against everyone\\'s wishes.\\n\\nIn Pakistan, Jeete meets Tara\\'s close friend, Gul Khan, who helps him secure a job at \\nKurban Khan\\'s hotel, which supplies food to the prison where Tara and the Indian soldiers \\nare supposedly being held. Jeete meets and gets close to Kurban\\'s daughter, Muskaan, \\nwho continues to support him upon learning that Jeete came there to rescue his father. \\nJeete infiltrates the prison, only to get captured and discover that Tara was never captured. \\nOn the other hand, Tara resurfaces in Punjab and reunites with Sakeena, revealing that he fell\\ninto a stream and was rescued by a Bakarwal tribe, but went into a coma. Upon learning that \\nJeete is in Pakistan and his communication has stopped, Tara decides to head to Pakistan and \\nextract Jeete from the prison. Landing in Pakistan, Tara meets Gul Khan and learns about Jeete\\'s \\ncapture.\\n\\nMeanwhile, Iqbal beats up Jeete and gets him publicly humiliated by falsely accusing him of\\nassaulting Muskaan, who is forced to lie in order to protect her father. However, \\n\\nTara arrives and escapes with Jeete after defeating Iqbal and his army. Yahya Khan, \\nwho is the President of Pakistan and the Commander-in-chief of the Pakistan Army, orders \\nIqbal to capture Tara within 72 hours. Tara and his team contact Sakeena, but are chased by \\nIqbal\\'s men, eventually getting separated. Following a series of fights and chases, they \\nfinally reunite and are on their way to leave Pakistan when Kurban Khan shows up with his \\nfamily, along with Muskaan. They plan to leave for Balochistan from there.\\n\\nKurban Khan asks Tara to accept Muskaan as Jeete\\'s bride, to which Jeete and Tara both \\nhappily agree. However, Iqbal captures them in an ambush and kills Muskaan\\'s brother, \\nFarid. The next day, Tara fights Iqbal and his army singlehandedly, escaping with everybody\\nin a battle tank. They arrive at the Indian border, where Iqbal tries to kill Tara, but is \\ngunned down by Indian soldiers. Colonel Rawat approves Jeete to enlist in the army, while \\nTara and Jeete both reunite with Sakeena, with Muskaan in tow.'"
      ]
     },
     "execution_count": 34,
     "metadata": {},
     "output_type": "execute_result"
    }
   ],
   "source": [
    "gadar2"
   ]
  },
  {
   "cell_type": "code",
   "execution_count": 37,
   "id": "6b23b330",
   "metadata": {},
   "outputs": [],
   "source": [
    "import spacy\n",
    "from string import punctuation\n",
    "from spacy.lang.en.stop_words import STOP_WORDS"
   ]
  },
  {
   "cell_type": "code",
   "execution_count": 38,
   "id": "ceeec06d",
   "metadata": {},
   "outputs": [
    {
     "data": {
      "text/plain": [
       "3131"
      ]
     },
     "execution_count": 38,
     "metadata": {},
     "output_type": "execute_result"
    }
   ],
   "source": [
    "len(gadar2)"
   ]
  },
  {
   "cell_type": "code",
   "execution_count": 40,
   "id": "9fb7b8f0",
   "metadata": {},
   "outputs": [],
   "source": [
    "nlpp = spacy.load('en_core_web_sm')\n",
    "\n",
    "doc = nlpp(gadar2)"
   ]
  },
  {
   "cell_type": "code",
   "execution_count": 43,
   "id": "0fb54361",
   "metadata": {},
   "outputs": [
    {
     "data": {
      "text/plain": [
       "[Previously, Tara Singh, an Indian truck driver, had made a dramatic escape from \n",
       " Pakistan along with his wife, Sakeena \"Sakku, and their son, Charanjeet \"Jeete\", in 1954. ,\n",
       " Shortly afterwards, a Pakistani Army General, Hamid Iqbal, gets Ashraf Ali executed for \n",
       " aiding Tara Singh and his family get away to India.,\n",
       " Iqbal wants to exact vengeance on Tara \n",
       " for eliminating 40 soldiers during his escape.\n",
       " ,\n",
       " In 1971, Tara is now a goods supplier to the Indian army cantonment and living with Sakeena \n",
       " and Jeete, who soon leaves for Chandigarh for college.,\n",
       " One day, Tara is contacted by\n",
       " Lt. Colonel Devendra Rawat for help in supplying Indian soldiers with weapons as a \n",
       " skirmish is taking place with the Pakistani soldiers at the border, during the \n",
       " Indo-Pakistani War of 1971.,\n",
       " After reaching there, Tara is spotted by Iqbal, who orders \n",
       " an explosion at the border, leading to Tara and the soldiers getting captured. ,\n",
       " Jeete returns from Chandigarh to find Sakeena in shambles.,\n",
       " Upon learning about \n",
       " Tara's disappearance at the border, Jeete leaves for Pakistan against everyone's wishes.\n",
       " ,\n",
       " In Pakistan, Jeete meets Tara's close friend, Gul Khan, who helps him secure a job at \n",
       " Kurban Khan's hotel, which supplies food to the prison where Tara and the Indian soldiers \n",
       " are supposedly being held.,\n",
       " Jeete meets and gets close to Kurban's daughter, Muskaan, \n",
       " who continues to support him upon learning that Jeete came there to rescue his father. ,\n",
       " Jeete infiltrates the prison, only to get captured and discover that Tara was never captured. ,\n",
       " On the other hand, Tara resurfaces in Punjab and reunites with Sakeena, revealing that he fell\n",
       " into a stream and was rescued by a Bakarwal tribe, but went into a coma.,\n",
       " Upon learning that \n",
       " Jeete is in Pakistan and his communication has stopped, Tara decides to head to Pakistan and \n",
       " extract Jeete from the prison.,\n",
       " Landing in Pakistan, Tara meets Gul Khan and learns about Jeete's \n",
       " capture.\n",
       " ,\n",
       " Meanwhile, Iqbal beats up Jeete and gets him publicly humiliated by falsely accusing him of\n",
       " assaulting Muskaan, who is forced to lie in order to protect her father.,\n",
       " However, \n",
       " \n",
       " Tara arrives and escapes with Jeete after defeating Iqbal and his army.,\n",
       " Yahya Khan, \n",
       " who is the President of Pakistan and the Commander-in-chief of the Pakistan Army, orders \n",
       " Iqbal to capture Tara within 72 hours.,\n",
       " Tara and his team contact Sakeena, but are chased by \n",
       " Iqbal's men, eventually getting separated.,\n",
       " Following a series of fights and chases, they \n",
       " finally reunite and are on their way to leave Pakistan when Kurban Khan shows up with his \n",
       " family, along with Muskaan.,\n",
       " They plan to leave for Balochistan from there.\n",
       " ,\n",
       " Kurban Khan asks Tara to accept Muskaan as Jeete's bride, to which Jeete and Tara both \n",
       " happily agree.,\n",
       " However, Iqbal captures them in an ambush and kills Muskaan's brother, \n",
       " Farid.,\n",
       " The next day, Tara fights Iqbal and his army singlehandedly, escaping with everybody\n",
       " in a battle tank.,\n",
       " They arrive at the Indian border, where Iqbal tries to kill Tara, but is \n",
       " gunned down by Indian soldiers.,\n",
       " Colonel Rawat approves Jeete to enlist in the army, while \n",
       " Tara and Jeete both reunite with Sakeena, with Muskaan in tow.]"
      ]
     },
     "execution_count": 43,
     "metadata": {},
     "output_type": "execute_result"
    }
   ],
   "source": [
    "sentence_token = [sent for sent in doc.sents]\n",
    "sentence_token"
   ]
  },
  {
   "cell_type": "code",
   "execution_count": 44,
   "id": "35f5ecd9",
   "metadata": {},
   "outputs": [
    {
     "data": {
      "text/plain": [
       "{\"'d\",\n",
       " \"'ll\",\n",
       " \"'m\",\n",
       " \"'re\",\n",
       " \"'s\",\n",
       " \"'ve\",\n",
       " 'a',\n",
       " 'about',\n",
       " 'above',\n",
       " 'across',\n",
       " 'after',\n",
       " 'afterwards',\n",
       " 'again',\n",
       " 'against',\n",
       " 'all',\n",
       " 'almost',\n",
       " 'alone',\n",
       " 'along',\n",
       " 'already',\n",
       " 'also',\n",
       " 'although',\n",
       " 'always',\n",
       " 'am',\n",
       " 'among',\n",
       " 'amongst',\n",
       " 'amount',\n",
       " 'an',\n",
       " 'and',\n",
       " 'another',\n",
       " 'any',\n",
       " 'anyhow',\n",
       " 'anyone',\n",
       " 'anything',\n",
       " 'anyway',\n",
       " 'anywhere',\n",
       " 'are',\n",
       " 'around',\n",
       " 'as',\n",
       " 'at',\n",
       " 'back',\n",
       " 'be',\n",
       " 'became',\n",
       " 'because',\n",
       " 'become',\n",
       " 'becomes',\n",
       " 'becoming',\n",
       " 'been',\n",
       " 'before',\n",
       " 'beforehand',\n",
       " 'behind',\n",
       " 'being',\n",
       " 'below',\n",
       " 'beside',\n",
       " 'besides',\n",
       " 'between',\n",
       " 'beyond',\n",
       " 'both',\n",
       " 'bottom',\n",
       " 'but',\n",
       " 'by',\n",
       " 'ca',\n",
       " 'call',\n",
       " 'can',\n",
       " 'cannot',\n",
       " 'could',\n",
       " 'did',\n",
       " 'do',\n",
       " 'does',\n",
       " 'doing',\n",
       " 'done',\n",
       " 'down',\n",
       " 'due',\n",
       " 'during',\n",
       " 'each',\n",
       " 'eight',\n",
       " 'either',\n",
       " 'eleven',\n",
       " 'else',\n",
       " 'elsewhere',\n",
       " 'empty',\n",
       " 'enough',\n",
       " 'even',\n",
       " 'ever',\n",
       " 'every',\n",
       " 'everyone',\n",
       " 'everything',\n",
       " 'everywhere',\n",
       " 'except',\n",
       " 'few',\n",
       " 'fifteen',\n",
       " 'fifty',\n",
       " 'first',\n",
       " 'five',\n",
       " 'for',\n",
       " 'former',\n",
       " 'formerly',\n",
       " 'forty',\n",
       " 'four',\n",
       " 'from',\n",
       " 'front',\n",
       " 'full',\n",
       " 'further',\n",
       " 'get',\n",
       " 'give',\n",
       " 'go',\n",
       " 'had',\n",
       " 'has',\n",
       " 'have',\n",
       " 'he',\n",
       " 'hence',\n",
       " 'her',\n",
       " 'here',\n",
       " 'hereafter',\n",
       " 'hereby',\n",
       " 'herein',\n",
       " 'hereupon',\n",
       " 'hers',\n",
       " 'herself',\n",
       " 'him',\n",
       " 'himself',\n",
       " 'his',\n",
       " 'how',\n",
       " 'however',\n",
       " 'hundred',\n",
       " 'i',\n",
       " 'if',\n",
       " 'in',\n",
       " 'indeed',\n",
       " 'into',\n",
       " 'is',\n",
       " 'it',\n",
       " 'its',\n",
       " 'itself',\n",
       " 'just',\n",
       " 'keep',\n",
       " 'last',\n",
       " 'latter',\n",
       " 'latterly',\n",
       " 'least',\n",
       " 'less',\n",
       " 'made',\n",
       " 'make',\n",
       " 'many',\n",
       " 'may',\n",
       " 'me',\n",
       " 'meanwhile',\n",
       " 'might',\n",
       " 'mine',\n",
       " 'more',\n",
       " 'moreover',\n",
       " 'most',\n",
       " 'mostly',\n",
       " 'move',\n",
       " 'much',\n",
       " 'must',\n",
       " 'my',\n",
       " 'myself',\n",
       " \"n't\",\n",
       " 'name',\n",
       " 'namely',\n",
       " 'neither',\n",
       " 'never',\n",
       " 'nevertheless',\n",
       " 'next',\n",
       " 'nine',\n",
       " 'no',\n",
       " 'nobody',\n",
       " 'none',\n",
       " 'noone',\n",
       " 'nor',\n",
       " 'not',\n",
       " 'nothing',\n",
       " 'now',\n",
       " 'nowhere',\n",
       " 'n‘t',\n",
       " 'n’t',\n",
       " 'of',\n",
       " 'off',\n",
       " 'often',\n",
       " 'on',\n",
       " 'once',\n",
       " 'one',\n",
       " 'only',\n",
       " 'onto',\n",
       " 'or',\n",
       " 'other',\n",
       " 'others',\n",
       " 'otherwise',\n",
       " 'our',\n",
       " 'ours',\n",
       " 'ourselves',\n",
       " 'out',\n",
       " 'over',\n",
       " 'own',\n",
       " 'part',\n",
       " 'per',\n",
       " 'perhaps',\n",
       " 'please',\n",
       " 'put',\n",
       " 'quite',\n",
       " 'rather',\n",
       " 're',\n",
       " 'really',\n",
       " 'regarding',\n",
       " 'same',\n",
       " 'say',\n",
       " 'see',\n",
       " 'seem',\n",
       " 'seemed',\n",
       " 'seeming',\n",
       " 'seems',\n",
       " 'serious',\n",
       " 'several',\n",
       " 'she',\n",
       " 'should',\n",
       " 'show',\n",
       " 'side',\n",
       " 'since',\n",
       " 'six',\n",
       " 'sixty',\n",
       " 'so',\n",
       " 'some',\n",
       " 'somehow',\n",
       " 'someone',\n",
       " 'something',\n",
       " 'sometime',\n",
       " 'sometimes',\n",
       " 'somewhere',\n",
       " 'still',\n",
       " 'such',\n",
       " 'take',\n",
       " 'ten',\n",
       " 'than',\n",
       " 'that',\n",
       " 'the',\n",
       " 'their',\n",
       " 'them',\n",
       " 'themselves',\n",
       " 'then',\n",
       " 'thence',\n",
       " 'there',\n",
       " 'thereafter',\n",
       " 'thereby',\n",
       " 'therefore',\n",
       " 'therein',\n",
       " 'thereupon',\n",
       " 'these',\n",
       " 'they',\n",
       " 'third',\n",
       " 'this',\n",
       " 'those',\n",
       " 'though',\n",
       " 'three',\n",
       " 'through',\n",
       " 'throughout',\n",
       " 'thru',\n",
       " 'thus',\n",
       " 'to',\n",
       " 'together',\n",
       " 'too',\n",
       " 'top',\n",
       " 'toward',\n",
       " 'towards',\n",
       " 'twelve',\n",
       " 'twenty',\n",
       " 'two',\n",
       " 'under',\n",
       " 'unless',\n",
       " 'until',\n",
       " 'up',\n",
       " 'upon',\n",
       " 'us',\n",
       " 'used',\n",
       " 'using',\n",
       " 'various',\n",
       " 'very',\n",
       " 'via',\n",
       " 'was',\n",
       " 'we',\n",
       " 'well',\n",
       " 'were',\n",
       " 'what',\n",
       " 'whatever',\n",
       " 'when',\n",
       " 'whence',\n",
       " 'whenever',\n",
       " 'where',\n",
       " 'whereafter',\n",
       " 'whereas',\n",
       " 'whereby',\n",
       " 'wherein',\n",
       " 'whereupon',\n",
       " 'wherever',\n",
       " 'whether',\n",
       " 'which',\n",
       " 'while',\n",
       " 'whither',\n",
       " 'who',\n",
       " 'whoever',\n",
       " 'whole',\n",
       " 'whom',\n",
       " 'whose',\n",
       " 'why',\n",
       " 'will',\n",
       " 'with',\n",
       " 'within',\n",
       " 'without',\n",
       " 'would',\n",
       " 'yet',\n",
       " 'you',\n",
       " 'your',\n",
       " 'yours',\n",
       " 'yourself',\n",
       " 'yourselves',\n",
       " '‘d',\n",
       " '‘ll',\n",
       " '‘m',\n",
       " '‘re',\n",
       " '‘s',\n",
       " '‘ve',\n",
       " '’d',\n",
       " '’ll',\n",
       " '’m',\n",
       " '’re',\n",
       " '’s',\n",
       " '’ve'}"
      ]
     },
     "execution_count": 44,
     "metadata": {},
     "output_type": "execute_result"
    }
   ],
   "source": [
    "stopwords = STOP_WORDS\n",
    "stopwords"
   ]
  },
  {
   "cell_type": "code",
   "execution_count": 48,
   "id": "10cfb79c",
   "metadata": {},
   "outputs": [
    {
     "name": "stdout",
     "output_type": "stream",
     "text": [
      "Most frequent word frequency 22\n"
     ]
    }
   ],
   "source": [
    "punctuation=punctuation + '\\n'\n",
    "\n",
    "word_frequencies = {}\n",
    "for word in doc:\n",
    "    if word.text.lower() not in STOP_WORDS:\n",
    "        if word.text.lower() not in punctuation:\n",
    "            if word.text not in word_frequencies.keys():\n",
    "                word_frequencies[word.text] = 1\n",
    "            else:\n",
    "                word_frequencies[word.text] += 1\n",
    "                \n",
    "max_frequencies = max(word_frequencies.values())\n",
    "\n",
    "print('Most frequent word frequency',(max_frequencies))"
   ]
  },
  {
   "cell_type": "code",
   "execution_count": 49,
   "id": "942a94e2",
   "metadata": {},
   "outputs": [
    {
     "data": {
      "text/plain": [
       "{'Previously': 1,\n",
       " 'Tara': 22,\n",
       " 'Singh': 2,\n",
       " 'Indian': 6,\n",
       " 'truck': 1,\n",
       " 'driver': 1,\n",
       " 'dramatic': 1,\n",
       " 'escape': 2,\n",
       " 'Pakistan': 9,\n",
       " 'wife': 1,\n",
       " 'Sakeena': 6,\n",
       " 'Sakku': 1,\n",
       " 'son': 1,\n",
       " 'Charanjeet': 1,\n",
       " 'Jeete': 17,\n",
       " '1954': 1,\n",
       " 'Shortly': 1,\n",
       " 'Pakistani': 3,\n",
       " 'Army': 2,\n",
       " 'General': 1,\n",
       " 'Hamid': 1,\n",
       " 'Iqbal': 10,\n",
       " 'gets': 3,\n",
       " 'Ashraf': 1,\n",
       " 'Ali': 1,\n",
       " 'executed': 1,\n",
       " 'aiding': 1,\n",
       " 'family': 2,\n",
       " 'away': 1,\n",
       " 'India': 1,\n",
       " 'wants': 1,\n",
       " 'exact': 1,\n",
       " 'vengeance': 1,\n",
       " 'eliminating': 1,\n",
       " '40': 1,\n",
       " 'soldiers': 6,\n",
       " '1971': 2,\n",
       " 'goods': 1,\n",
       " 'supplier': 1,\n",
       " 'army': 4,\n",
       " 'cantonment': 1,\n",
       " 'living': 1,\n",
       " 'soon': 1,\n",
       " 'leaves': 2,\n",
       " 'Chandigarh': 2,\n",
       " 'college': 1,\n",
       " 'day': 2,\n",
       " 'contacted': 1,\n",
       " 'Lt': 1,\n",
       " 'Colonel': 2,\n",
       " 'Devendra': 1,\n",
       " 'Rawat': 2,\n",
       " 'help': 1,\n",
       " 'supplying': 1,\n",
       " 'weapons': 1,\n",
       " 'skirmish': 1,\n",
       " 'taking': 1,\n",
       " 'place': 1,\n",
       " 'border': 4,\n",
       " 'Indo': 1,\n",
       " 'War': 1,\n",
       " 'reaching': 1,\n",
       " 'spotted': 1,\n",
       " 'orders': 2,\n",
       " 'explosion': 1,\n",
       " 'leading': 1,\n",
       " 'getting': 2,\n",
       " 'captured': 3,\n",
       " 'returns': 1,\n",
       " 'find': 1,\n",
       " 'shambles': 1,\n",
       " 'learning': 3,\n",
       " 'disappearance': 1,\n",
       " 'wishes': 1,\n",
       " 'meets': 3,\n",
       " 'close': 2,\n",
       " 'friend': 1,\n",
       " 'Gul': 2,\n",
       " 'Khan': 6,\n",
       " 'helps': 1,\n",
       " 'secure': 1,\n",
       " 'job': 1,\n",
       " 'Kurban': 4,\n",
       " 'hotel': 1,\n",
       " 'supplies': 1,\n",
       " 'food': 1,\n",
       " 'prison': 3,\n",
       " 'supposedly': 1,\n",
       " 'held': 1,\n",
       " 'daughter': 1,\n",
       " 'Muskaan': 6,\n",
       " 'continues': 1,\n",
       " 'support': 1,\n",
       " 'came': 1,\n",
       " 'rescue': 1,\n",
       " 'father': 2,\n",
       " 'infiltrates': 1,\n",
       " 'discover': 1,\n",
       " 'hand': 1,\n",
       " 'resurfaces': 1,\n",
       " 'Punjab': 1,\n",
       " 'reunites': 1,\n",
       " 'revealing': 1,\n",
       " 'fell': 1,\n",
       " 'stream': 1,\n",
       " 'rescued': 1,\n",
       " 'Bakarwal': 1,\n",
       " 'tribe': 1,\n",
       " 'went': 1,\n",
       " 'coma': 1,\n",
       " 'communication': 1,\n",
       " 'stopped': 1,\n",
       " 'decides': 1,\n",
       " 'head': 1,\n",
       " 'extract': 1,\n",
       " 'Landing': 1,\n",
       " 'learns': 1,\n",
       " 'capture': 2,\n",
       " 'beats': 1,\n",
       " 'publicly': 1,\n",
       " 'humiliated': 1,\n",
       " 'falsely': 1,\n",
       " 'accusing': 1,\n",
       " 'assaulting': 1,\n",
       " 'forced': 1,\n",
       " 'lie': 1,\n",
       " 'order': 1,\n",
       " 'protect': 1,\n",
       " 'arrives': 1,\n",
       " 'escapes': 1,\n",
       " 'defeating': 1,\n",
       " 'Yahya': 1,\n",
       " 'President': 1,\n",
       " 'Commander': 1,\n",
       " 'chief': 1,\n",
       " '72': 1,\n",
       " 'hours': 1,\n",
       " 'team': 1,\n",
       " 'contact': 1,\n",
       " 'chased': 1,\n",
       " 'men': 1,\n",
       " 'eventually': 1,\n",
       " 'separated': 1,\n",
       " 'Following': 1,\n",
       " 'series': 1,\n",
       " 'fights': 2,\n",
       " 'chases': 1,\n",
       " 'finally': 1,\n",
       " 'reunite': 2,\n",
       " 'way': 1,\n",
       " 'leave': 2,\n",
       " 'shows': 1,\n",
       " 'plan': 1,\n",
       " 'Balochistan': 1,\n",
       " 'asks': 1,\n",
       " 'accept': 1,\n",
       " 'bride': 1,\n",
       " 'happily': 1,\n",
       " 'agree': 1,\n",
       " 'captures': 1,\n",
       " 'ambush': 1,\n",
       " 'kills': 1,\n",
       " 'brother': 1,\n",
       " 'Farid': 1,\n",
       " 'singlehandedly': 1,\n",
       " 'escaping': 1,\n",
       " 'everybody': 1,\n",
       " 'battle': 1,\n",
       " 'tank': 1,\n",
       " 'arrive': 1,\n",
       " 'tries': 1,\n",
       " 'kill': 1,\n",
       " 'gunned': 1,\n",
       " 'approves': 1,\n",
       " 'enlist': 1,\n",
       " 'tow': 1}"
      ]
     },
     "execution_count": 49,
     "metadata": {},
     "output_type": "execute_result"
    }
   ],
   "source": [
    "word_frequencies"
   ]
  },
  {
   "cell_type": "code",
   "execution_count": 50,
   "id": "98a326d7",
   "metadata": {},
   "outputs": [],
   "source": [
    "for word in word_frequencies:\n",
    "    word_frequencies[word] = word_frequencies[word]/max_frequencies"
   ]
  },
  {
   "cell_type": "code",
   "execution_count": 51,
   "id": "9759c4de",
   "metadata": {},
   "outputs": [
    {
     "name": "stdout",
     "output_type": "stream",
     "text": [
      "[Previously, Tara Singh, an Indian truck driver, had made a dramatic escape from \n",
      "Pakistan along with his wife, Sakeena \"Sakku, and their son, Charanjeet \"Jeete\", in 1954. \n",
      ", Shortly afterwards, a Pakistani Army General, Hamid Iqbal, gets Ashraf Ali executed for \n",
      "aiding Tara Singh and his family get away to India., Iqbal wants to exact vengeance on Tara \n",
      "for eliminating 40 soldiers during his escape.\n",
      "\n",
      ", In 1971, Tara is now a goods supplier to the Indian army cantonment and living with Sakeena \n",
      "and Jeete, who soon leaves for Chandigarh for college., One day, Tara is contacted by\n",
      "Lt. Colonel Devendra Rawat for help in supplying Indian soldiers with weapons as a \n",
      "skirmish is taking place with the Pakistani soldiers at the border, during the \n",
      "Indo-Pakistani War of 1971., After reaching there, Tara is spotted by Iqbal, who orders \n",
      "an explosion at the border, leading to Tara and the soldiers getting captured. \n",
      ", Jeete returns from Chandigarh to find Sakeena in shambles., Upon learning about \n",
      "Tara's disappearance at the border, Jeete leaves for Pakistan against everyone's wishes.\n",
      "\n",
      ", In Pakistan, Jeete meets Tara's close friend, Gul Khan, who helps him secure a job at \n",
      "Kurban Khan's hotel, which supplies food to the prison where Tara and the Indian soldiers \n",
      "are supposedly being held., Jeete meets and gets close to Kurban's daughter, Muskaan, \n",
      "who continues to support him upon learning that Jeete came there to rescue his father. \n",
      ", Jeete infiltrates the prison, only to get captured and discover that Tara was never captured. \n",
      ", On the other hand, Tara resurfaces in Punjab and reunites with Sakeena, revealing that he fell\n",
      "into a stream and was rescued by a Bakarwal tribe, but went into a coma., Upon learning that \n",
      "Jeete is in Pakistan and his communication has stopped, Tara decides to head to Pakistan and \n",
      "extract Jeete from the prison., Landing in Pakistan, Tara meets Gul Khan and learns about Jeete's \n",
      "capture.\n",
      "\n",
      ", Meanwhile, Iqbal beats up Jeete and gets him publicly humiliated by falsely accusing him of\n",
      "assaulting Muskaan, who is forced to lie in order to protect her father., However, \n",
      "\n",
      "Tara arrives and escapes with Jeete after defeating Iqbal and his army., Yahya Khan, \n",
      "who is the President of Pakistan and the Commander-in-chief of the Pakistan Army, orders \n",
      "Iqbal to capture Tara within 72 hours., Tara and his team contact Sakeena, but are chased by \n",
      "Iqbal's men, eventually getting separated., Following a series of fights and chases, they \n",
      "finally reunite and are on their way to leave Pakistan when Kurban Khan shows up with his \n",
      "family, along with Muskaan., They plan to leave for Balochistan from there.\n",
      "\n",
      ", Kurban Khan asks Tara to accept Muskaan as Jeete's bride, to which Jeete and Tara both \n",
      "happily agree., However, Iqbal captures them in an ambush and kills Muskaan's brother, \n",
      "Farid., The next day, Tara fights Iqbal and his army singlehandedly, escaping with everybody\n",
      "in a battle tank., They arrive at the Indian border, where Iqbal tries to kill Tara, but is \n",
      "gunned down by Indian soldiers., Colonel Rawat approves Jeete to enlist in the army, while \n",
      "Tara and Jeete both reunite with Sakeena, with Muskaan in tow.]\n"
     ]
    }
   ],
   "source": [
    "sentence_tokens=[sent for sent in doc.sents]\n",
    "print(sentence_tokens)"
   ]
  },
  {
   "cell_type": "code",
   "execution_count": 52,
   "id": "d7ffe955",
   "metadata": {},
   "outputs": [
    {
     "data": {
      "text/plain": [
       "{Previously, Tara Singh, an Indian truck driver, had made a dramatic escape from \n",
       " Pakistan along with his wife, Sakeena \"Sakku, and their son, Charanjeet \"Jeete\", in 1954. : 0.36363636363636365,\n",
       " Shortly afterwards, a Pakistani Army General, Hamid Iqbal, gets Ashraf Ali executed for \n",
       " aiding Tara Singh and his family get away to India.: 0.5454545454545454,\n",
       " Iqbal wants to exact vengeance on Tara \n",
       " for eliminating 40 soldiers during his escape.\n",
       " : 0.5909090909090909,\n",
       " In 1971, Tara is now a goods supplier to the Indian army cantonment and living with Sakeena \n",
       " and Jeete, who soon leaves for Chandigarh for college.: 0.6363636363636364,\n",
       " One day, Tara is contacted by\n",
       " Lt. Colonel Devendra Rawat for help in supplying Indian soldiers with weapons as a \n",
       " skirmish is taking place with the Pakistani soldiers at the border, during the \n",
       " Indo-Pakistani War of 1971.: 1.227272727272727,\n",
       " After reaching there, Tara is spotted by Iqbal, who orders \n",
       " an explosion at the border, leading to Tara and the soldiers getting captured. : 0.9545454545454546,\n",
       " Jeete returns from Chandigarh to find Sakeena in shambles.: 0.13636363636363635,\n",
       " Upon learning about \n",
       " Tara's disappearance at the border, Jeete leaves for Pakistan against everyone's wishes.\n",
       " : 0.5,\n",
       " In Pakistan, Jeete meets Tara's close friend, Gul Khan, who helps him secure a job at \n",
       " Kurban Khan's hotel, which supplies food to the prison where Tara and the Indian soldiers \n",
       " are supposedly being held.: 1.0454545454545454,\n",
       " Jeete meets and gets close to Kurban's daughter, Muskaan, \n",
       " who continues to support him upon learning that Jeete came there to rescue his father. : 0.8181818181818181,\n",
       " Jeete infiltrates the prison, only to get captured and discover that Tara was never captured. : 0.5,\n",
       " On the other hand, Tara resurfaces in Punjab and reunites with Sakeena, revealing that he fell\n",
       " into a stream and was rescued by a Bakarwal tribe, but went into a coma.: 0.45454545454545464,\n",
       " Upon learning that \n",
       " Jeete is in Pakistan and his communication has stopped, Tara decides to head to Pakistan and \n",
       " extract Jeete from the prison.: 0.5,\n",
       " Landing in Pakistan, Tara meets Gul Khan and learns about Jeete's \n",
       " capture.\n",
       " : 0.2727272727272727,\n",
       " Meanwhile, Iqbal beats up Jeete and gets him publicly humiliated by falsely accusing him of\n",
       " assaulting Muskaan, who is forced to lie in order to protect her father.: 0.6818181818181819,\n",
       " However, \n",
       " \n",
       " Tara arrives and escapes with Jeete after defeating Iqbal and his army.: 0.3181818181818182,\n",
       " Yahya Khan, \n",
       " who is the President of Pakistan and the Commander-in-chief of the Pakistan Army, orders \n",
       " Iqbal to capture Tara within 72 hours.: 0.5000000000000001,\n",
       " Tara and his team contact Sakeena, but are chased by \n",
       " Iqbal's men, eventually getting separated.: 0.3636363636363637,\n",
       " Following a series of fights and chases, they \n",
       " finally reunite and are on their way to leave Pakistan when Kurban Khan shows up with his \n",
       " family, along with Muskaan.: 0.5909090909090909,\n",
       " They plan to leave for Balochistan from there.\n",
       " : 0.13636363636363635,\n",
       " Kurban Khan asks Tara to accept Muskaan as Jeete's bride, to which Jeete and Tara both \n",
       " happily agree.: 0.2272727272727273,\n",
       " However, Iqbal captures them in an ambush and kills Muskaan's brother, \n",
       " Farid.: 0.18181818181818182,\n",
       " The next day, Tara fights Iqbal and his army singlehandedly, escaping with everybody\n",
       " in a battle tank.: 0.5909090909090908,\n",
       " They arrive at the Indian border, where Iqbal tries to kill Tara, but is \n",
       " gunned down by Indian soldiers.: 0.6363636363636365,\n",
       " Colonel Rawat approves Jeete to enlist in the army, while \n",
       " Tara and Jeete both reunite with Sakeena, with Muskaan in tow.: 0.4090909090909091}"
      ]
     },
     "execution_count": 52,
     "metadata": {},
     "output_type": "execute_result"
    }
   ],
   "source": [
    "sentence_score = {}\n",
    "for sent in sentence_tokens:\n",
    "    for word in sent:\n",
    "        if word.text.lower() in word_frequencies.keys():\n",
    "            if sent not in sentence_score.keys():\n",
    "                sentence_score[sent] = word_frequencies[word.text.lower()]\n",
    "            else:\n",
    "                sentence_score[sent] += word_frequencies[word.text.lower()]\n",
    "sentence_score           "
   ]
  },
  {
   "cell_type": "code",
   "execution_count": 55,
   "id": "9e64c5c9",
   "metadata": {},
   "outputs": [
    {
     "ename": "ImportError",
     "evalue": "cannot import name 'largest' from 'heapq' (C:\\Users\\DELL\\anaconda3\\lib\\heapq.py)",
     "output_type": "error",
     "traceback": [
      "\u001b[1;31m---------------------------------------------------------------------------\u001b[0m",
      "\u001b[1;31mImportError\u001b[0m                               Traceback (most recent call last)",
      "Cell \u001b[1;32mIn[55], line 1\u001b[0m\n\u001b[1;32m----> 1\u001b[0m \u001b[38;5;28;01mfrom\u001b[39;00m \u001b[38;5;21;01mheapq\u001b[39;00m \u001b[38;5;28;01mimport\u001b[39;00m largest\n",
      "\u001b[1;31mImportError\u001b[0m: cannot import name 'largest' from 'heapq' (C:\\Users\\DELL\\anaconda3\\lib\\heapq.py)"
     ]
    }
   ],
   "source": [
    "from heapq import largest"
   ]
  },
  {
   "cell_type": "code",
   "execution_count": 54,
   "id": "697ef02f",
   "metadata": {},
   "outputs": [
    {
     "name": "stdout",
     "output_type": "stream",
     "text": [
      "Note: you may need to restart the kernel to use updated packages.\n"
     ]
    },
    {
     "name": "stderr",
     "output_type": "stream",
     "text": [
      "ERROR: Could not find a version that satisfies the requirement heapq (from versions: none)\n",
      "ERROR: No matching distribution found for heapq\n"
     ]
    }
   ],
   "source": [
    "pip install heapq"
   ]
  },
  {
   "cell_type": "code",
   "execution_count": 56,
   "id": "1008c7cc",
   "metadata": {},
   "outputs": [],
   "source": [
    "from bs4 import BeautifulSoup\n",
    "from urllib.request import urlopen"
   ]
  },
  {
   "cell_type": "code",
   "execution_count": 61,
   "id": "0d679d64",
   "metadata": {},
   "outputs": [],
   "source": [
    "link = 'https://en.wikipedia.org/wiki/Main_Page'"
   ]
  },
  {
   "cell_type": "code",
   "execution_count": 62,
   "id": "75a91602",
   "metadata": {},
   "outputs": [],
   "source": [
    "def scrape(link):\n",
    "    website=urlopen(link)\n",
    "    s=BeautifulSoup(website)\n",
    "    text=' '.join(map(lambda x: x.text,s.find_all(\"p\")))\n",
    "    print(text)\n",
    "    return s.title.text,text"
   ]
  },
  {
   "cell_type": "code",
   "execution_count": 63,
   "id": "69f6252a",
   "metadata": {},
   "outputs": [
    {
     "name": "stdout",
     "output_type": "stream",
     "text": [
      "Georges Feydeau (1862–1921) was a French playwright of the Belle Époque era, remembered for his farces. His first full-length comedy, Tailleur pour dames ('Ladies' tailor'), was well-received. After studying earlier masters of French comedy, particularly Eugène Labiche, Alfred Hennequin and Henri Meilhac, he wrote or collaborated on seventeen full-length plays between 1892 and 1914, many of which have become staples of the theatrical repertoire in France and abroad. They include L'Hôtel du libre échange ('The Free Exchange Hotel', 1894), La Dame de chez Maxim ('The lady from Maxim's', 1899), La Puce à l'oreille ('A flea in her ear', 1907) and Occupe-toi d'Amélie! ('Look after Amélie', 1908). His plays are marked by recognisable characters and fast-moving comic plots of mistaken identity, attempted adultery, split-second timing and a precariously happy ending. In the 1940s and 1950s, productions by Jean-Louis Barrault and the Comédie-Française revived interest in his works. (Full article...)\n",
      " September 26:\n",
      " Edward Bouchet (1852–1918) was an American physicist and educator. He was the first African American to earn a PhD from an American university, completing his dissertation in physics at Yale University in 1876. Bouchet had become one of the first African Americans to graduate from Yale College in 1874. On the basis of his academic record, he was elected to Phi Beta Kappa, an academic honor society. Unable to find a university-teaching or research-facility position due to racial discrimination, he moved to Philadelphia in 1876 and took a position at the Institute for Colored Youth, where he taught physics and chemistry for the next 26 years. This photograph of Bouchet, from the archives of Yale, is part of a portrait album of students in the class of 1874.\n",
      " Photograph credit: George Kendall Warren; restored by Adam Cuerden Wikipedia is written by volunteer editors and hosted by the Wikimedia Foundation, a non-profit organization that also hosts a range of other volunteer projects:\n",
      " This Wikipedia is written in English. Many other Wikipedias are available; some of the largest are listed below.\n",
      "\n"
     ]
    },
    {
     "data": {
      "text/plain": [
       "('Wikipedia, the free encyclopedia',\n",
       " \"Georges Feydeau (1862–1921) was a French playwright of the Belle Époque era, remembered for his farces. His first full-length comedy, Tailleur pour dames ('Ladies' tailor'), was well-received. After studying earlier masters of French comedy, particularly Eugène Labiche, Alfred Hennequin and Henri Meilhac, he wrote or collaborated on seventeen full-length plays between 1892 and 1914, many of which have become staples of the theatrical repertoire in France and abroad. They include L'Hôtel du libre échange ('The Free Exchange Hotel', 1894), La Dame de chez Maxim ('The lady from Maxim's', 1899), La Puce à l'oreille ('A flea in her ear', 1907) and Occupe-toi d'Amélie! ('Look after Amélie', 1908). His plays are marked by recognisable characters and fast-moving comic plots of mistaken identity, attempted adultery, split-second timing and a precariously happy ending. In the 1940s and 1950s, productions by Jean-Louis Barrault and the Comédie-Française revived interest in his works. (Full\\xa0article...)\\n September 26:\\n Edward Bouchet (1852–1918) was an American physicist and educator. He was the first African American to earn a PhD from an American university, completing his dissertation in physics at Yale University in 1876. Bouchet had become one of the first African Americans to graduate from Yale College in 1874. On the basis of his academic record, he was elected to Phi Beta Kappa, an academic honor society. Unable to find a university-teaching or research-facility position due to racial discrimination, he moved to Philadelphia in 1876 and took a position at the Institute for Colored Youth, where he taught physics and chemistry for the next 26 years. This photograph of Bouchet, from the archives of Yale, is part of a portrait album of students in the class of 1874.\\n Photograph credit: George Kendall Warren; restored by Adam Cuerden Wikipedia is written by volunteer editors and hosted by the Wikimedia Foundation, a non-profit organization that also hosts a range of other volunteer projects:\\n This Wikipedia is written in English. Many other Wikipedias are available; some of the largest are listed below.\\n\")"
      ]
     },
     "execution_count": 63,
     "metadata": {},
     "output_type": "execute_result"
    }
   ],
   "source": [
    "scrape(link)"
   ]
  },
  {
   "cell_type": "code",
   "execution_count": null,
   "id": "28a30a5a",
   "metadata": {},
   "outputs": [],
   "source": []
  }
 ],
 "metadata": {
  "kernelspec": {
   "display_name": "Python 3 (ipykernel)",
   "language": "python",
   "name": "python3"
  },
  "language_info": {
   "codemirror_mode": {
    "name": "ipython",
    "version": 3
   },
   "file_extension": ".py",
   "mimetype": "text/x-python",
   "name": "python",
   "nbconvert_exporter": "python",
   "pygments_lexer": "ipython3",
   "version": "3.10.9"
  }
 },
 "nbformat": 4,
 "nbformat_minor": 5
}
